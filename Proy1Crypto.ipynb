{
  "nbformat": 4,
  "nbformat_minor": 0,
  "metadata": {
    "colab": {
      "name": "Proy1Crypto.ipynb",
      "provenance": [],
      "collapsed_sections": [
        "sFoTwd0V8YeM"
      ],
      "include_colab_link": true
    },
    "kernelspec": {
      "name": "python3",
      "display_name": "Python 3"
    },
    "language_info": {
      "name": "python"
    }
  },
  "cells": [
    {
      "cell_type": "markdown",
      "metadata": {
        "id": "view-in-github",
        "colab_type": "text"
      },
      "source": [
        "<a href=\"https://colab.research.google.com/github/atorr5555/proyecto-1-cripto/blob/main/Proy1Crypto.ipynb\" target=\"_parent\"><img src=\"https://colab.research.google.com/assets/colab-badge.svg\" alt=\"Open In Colab\"/></a>"
      ]
    },
    {
      "cell_type": "markdown",
      "metadata": {
        "id": "5t0SqmPM6RX9"
      },
      "source": [
        "# Proyecto 1 Criptografía\n",
        "\n",
        "Equipo:\n",
        "\n",
        "Gutiérrez Chávez Sergio Daniel\n",
        "\n",
        "Mekibes Meza Malik\n",
        "\n",
        "Torres Verastegui José Antonio"
      ]
    },
    {
      "cell_type": "markdown",
      "metadata": {
        "id": "B_0N9bVS63sz"
      },
      "source": [
        "## Instalando bibliotecas necesarias"
      ]
    },
    {
      "cell_type": "code",
      "metadata": {
        "colab": {
          "base_uri": "https://localhost:8080/"
        },
        "id": "LekZHv2a5zlm",
        "outputId": "ef02a424-a472-4e91-f50d-b46d0bc3b787"
      },
      "source": [
        "!pip install pycryptodome\n",
        "!pip install XlsxWriter\n",
        "!pip install matplotlib"
      ],
      "execution_count": 111,
      "outputs": [
        {
          "output_type": "stream",
          "name": "stdout",
          "text": [
            "Requirement already satisfied: pycryptodome in /usr/local/lib/python3.7/dist-packages (3.11.0)\n",
            "Requirement already satisfied: XlsxWriter in /usr/local/lib/python3.7/dist-packages (3.0.2)\n",
            "Requirement already satisfied: matplotlib in /usr/local/lib/python3.7/dist-packages (3.2.2)\n",
            "Requirement already satisfied: pyparsing!=2.0.4,!=2.1.2,!=2.1.6,>=2.0.1 in /usr/local/lib/python3.7/dist-packages (from matplotlib) (2.4.7)\n",
            "Requirement already satisfied: numpy>=1.11 in /usr/local/lib/python3.7/dist-packages (from matplotlib) (1.19.5)\n",
            "Requirement already satisfied: python-dateutil>=2.1 in /usr/local/lib/python3.7/dist-packages (from matplotlib) (2.8.2)\n",
            "Requirement already satisfied: cycler>=0.10 in /usr/local/lib/python3.7/dist-packages (from matplotlib) (0.10.0)\n",
            "Requirement already satisfied: kiwisolver>=1.0.1 in /usr/local/lib/python3.7/dist-packages (from matplotlib) (1.3.2)\n",
            "Requirement already satisfied: six in /usr/local/lib/python3.7/dist-packages (from cycler>=0.10->matplotlib) (1.15.0)\n"
          ]
        }
      ]
    },
    {
      "cell_type": "code",
      "metadata": {
        "id": "MuSUfutw72pG"
      },
      "source": [
        "import xlsxwriter\n",
        "import time\n",
        "from base64 import b64encode, b64decode\n",
        "from Crypto.Cipher import ChaCha20\n",
        "from Crypto.Cipher import AES\n",
        "from Crypto.Util.Padding import pad, unpad\n",
        "from Crypto.Random import get_random_bytes"
      ],
      "execution_count": 112,
      "outputs": []
    },
    {
      "cell_type": "markdown",
      "metadata": {
        "id": "y7mrLsAH7ktN"
      },
      "source": [
        "## Creación pruebas para *algoritmos*"
      ]
    },
    {
      "cell_type": "markdown",
      "metadata": {
        "id": "sFoTwd0V8YeM"
      },
      "source": [
        "### Chacha20\n",
        "\n",
        "Key Size 256 bits"
      ]
    },
    {
      "cell_type": "markdown",
      "metadata": {
        "id": "6aOX7rSvEj78"
      },
      "source": [
        "#### Encrypt"
      ]
    },
    {
      "cell_type": "code",
      "metadata": {
        "id": "xSi4rk4REl-F"
      },
      "source": [
        "def Chacha_20_test(key : str, plaintext : str):\n",
        "    inicio = 0\n",
        "    inicio = time.perf_counter()\n",
        "    b= bytes(plaintext, 'utf-8')\n",
        "    #Creando el cifrador\n",
        "    chacha_cypher = ChaCha20.new(key = key)\n",
        "    #creando el objeto para cifrar\n",
        "    ciphertext = chacha_cypher.encrypt(b)\n",
        "    #haciendo la nonce y decodificando a utf-8\n",
        "    nonce = b64encode(chacha_cypher.nonce).decode('utf-8')\n",
        "    ct = b64encode(ciphertext).decode('utf-8')\n",
        "\n",
        "    final = 0\n",
        "    final = time.perf_counter()\n",
        "    res = final - inicio\n",
        "    return ct, res, nonce"
      ],
      "execution_count": 113,
      "outputs": []
    },
    {
      "cell_type": "markdown",
      "metadata": {
        "id": "y9Hr3I96EhXP"
      },
      "source": [
        "#### Decrypt"
      ]
    },
    {
      "cell_type": "code",
      "metadata": {
        "id": "uBOGSBTH8X8S"
      },
      "source": [
        "def Chacha_20_test_dec(key : str, plaintext : str):\n",
        "    b= bytes(plaintext, 'utf-8')\n",
        "\n",
        "    #Creando el cifrador\n",
        "    chacha_cypher = ChaCha20.new(key = key)\n",
        "\n",
        "    #creando el objeto para cifrar\n",
        "    ciphertext = chacha_cypher.encrypt(b)\n",
        "\n",
        "    #haciendo la nonce y decodificando a utf-8\n",
        "    nonce = b64encode(chacha_cypher.nonce).decode('utf-8')\n",
        "    ct = b64encode(ciphertext).decode('utf-8')\n",
        "\n",
        "    inicio = 0\n",
        "    inicio = time.perf_counter()\n",
        "\n",
        "    chacha_decrypt = ChaCha20.new(key = key, nonce = b64decode(nonce))\n",
        "\n",
        "    pt = chacha_decrypt.decrypt(b64decode(ct))\n",
        "    final = 0\n",
        "    final = time.perf_counter()\n",
        "    res = final - inicio\n",
        "\n",
        "    return str(pt), res, ct"
      ],
      "execution_count": 114,
      "outputs": []
    },
    {
      "cell_type": "markdown",
      "metadata": {
        "id": "PoXbEYZ68oDd"
      },
      "source": [
        "### AES-EBC\n",
        "\n",
        "Key Size 256 bits"
      ]
    },
    {
      "cell_type": "markdown",
      "metadata": {
        "id": "liJUJs5hHdqi"
      },
      "source": [
        "#### Encrypt"
      ]
    },
    {
      "cell_type": "code",
      "metadata": {
        "id": "cDkSfI5jHf9x"
      },
      "source": [
        "def AES_ECB_test(key : str, plaintext : str):\n",
        "    inicio = 0\n",
        "    inicio = time.perf_counter()\n",
        "    b = bytes(plaintext, 'utf-8')\n",
        "    #creamos y ciframos el texto plano\n",
        "    cipher = AES.new(key, AES.MODE_ECB)\n",
        "    ciphertext = cipher.encrypt(pad(b, 32))\n",
        "    ct = b64encode(ciphertext).decode('utf-8')\n",
        "\n",
        "    final = 0\n",
        "    final = time.perf_counter()\n",
        "    res = final - inicio\n",
        "    return ct, res"
      ],
      "execution_count": 115,
      "outputs": []
    },
    {
      "cell_type": "markdown",
      "metadata": {
        "id": "ggyfYB2VHbsO"
      },
      "source": [
        "#### Decrypt"
      ]
    },
    {
      "cell_type": "code",
      "metadata": {
        "id": "7eqelASn9pCC"
      },
      "source": [
        "def AES_ECB_test_dec(key : str, plaintext : str):\n",
        "\n",
        "    b = bytes(plaintext, 'utf-8')\n",
        "    #creamos y desciframos el texto cifrado\n",
        "    cipher = AES.new(key, AES.MODE_ECB)\n",
        "    ciphertext = cipher.encrypt(pad(b, AES.block_size))\n",
        "    ct = b64encode(ciphertext).decode('utf-8')\n",
        "\n",
        "    inicio = 0\n",
        "    inicio = time.perf_counter()\n",
        "\n",
        "    pt = unpad(cipher.decrypt(ciphertext), AES.block_size)\n",
        "    final = 0\n",
        "    final = time.perf_counter()\n",
        "    res = final - inicio\n",
        "    return ct, res, str(pt)"
      ],
      "execution_count": 116,
      "outputs": []
    },
    {
      "cell_type": "markdown",
      "metadata": {
        "id": "OC3eOgrw8u0K"
      },
      "source": [
        "### AES-CBC\n",
        "\n",
        "Key Size 256 bits"
      ]
    },
    {
      "cell_type": "markdown",
      "metadata": {
        "id": "j-z_Zw62_204"
      },
      "source": [
        "#### Encrypt"
      ]
    },
    {
      "cell_type": "code",
      "metadata": {
        "id": "aH2pco2-_6nK"
      },
      "source": [
        "def AES_CBC_test(key : str, plaintext : str):\n",
        "    inicio = 0\n",
        "    inicio = time.perf_counter()\n",
        "    b = bytes(plaintext, 'utf-8')\n",
        "    #creamos y ciframos el texto plano\n",
        "    cipher = AES.new(key, AES.MODE_CBC)\n",
        "    ciphertext = cipher.encrypt(pad(b, 32))\n",
        "    ct = b64encode(ciphertext).decode('utf-8')\n",
        "\n",
        "    final = 0\n",
        "    final = time.perf_counter()\n",
        "    res = final - inicio\n",
        "    return ct, res"
      ],
      "execution_count": 117,
      "outputs": []
    },
    {
      "cell_type": "markdown",
      "metadata": {
        "id": "Ub9Q0mcL_zQS"
      },
      "source": [
        "#### Decrypt"
      ]
    },
    {
      "cell_type": "code",
      "metadata": {
        "id": "vWfLdr4l9sN1"
      },
      "source": [
        "def AES_CBC_test_dec(key : str, plaintext : str):\n",
        "\n",
        "    b = bytes(plaintext, 'utf-8')\n",
        "    #creamos y desciframos el texto cifrado\n",
        "    cipher = AES.new(key, AES.MODE_CBC)\n",
        "    ciphertext = cipher.encrypt(pad(b, AES.block_size))\n",
        "    ct = b64encode(ciphertext).decode('utf-8')\n",
        "    iv = b64encode(cipher.iv).decode('utf-8')\n",
        "    aux = b64decode(ct)\n",
        "    inicio = 0\n",
        "    inicio = time.perf_counter()\n",
        "\n",
        "    aes_decrypt= AES.new(key, AES.MODE_CBC, b64decode(iv))\n",
        "    pt = unpad(aes_decrypt.decrypt(ciphertext), AES.block_size)\n",
        "\n",
        "    final = 0\n",
        "    final = time.perf_counter()\n",
        "    res = final - inicio\n",
        "    return ct, res, str(pt)"
      ],
      "execution_count": 118,
      "outputs": []
    },
    {
      "cell_type": "markdown",
      "metadata": {
        "id": "e8ubzemZ8ygd"
      },
      "source": [
        "### SHA-2\n",
        "\n",
        "Hash size 384 bits"
      ]
    },
    {
      "cell_type": "code",
      "metadata": {
        "id": "9Cd1MxvvL9ft"
      },
      "source": [
        "from Crypto.Hash import SHA384\n",
        "\n",
        "def sha2_384_test(input):\n",
        "  byte_stream = bytes(input, 'utf-8')\n",
        "  h = SHA384.new()\n",
        "  inicio = time.perf_counter()\n",
        "  h.update(byte_stream)\n",
        "  final = time.perf_counter()\n",
        "  return (final - inicio, h.hexdigest())"
      ],
      "execution_count": 119,
      "outputs": []
    },
    {
      "cell_type": "markdown",
      "metadata": {
        "id": "vr92rdR181AG"
      },
      "source": [
        "### SHA-2\n",
        "\n",
        "Hash size 512 bits"
      ]
    },
    {
      "cell_type": "code",
      "metadata": {
        "id": "G8Dn3J_FP8xd"
      },
      "source": [
        "from Crypto.Hash import SHA512\n",
        "\n",
        "def sha2_512_test(input):\n",
        "  byte_stream = bytes(input, 'utf-8')\n",
        "  h = SHA512.new()\n",
        "  inicio = time.perf_counter()\n",
        "  h.update(byte_stream)\n",
        "  final = time.perf_counter()\n",
        "  return (final - inicio, h.hexdigest())"
      ],
      "execution_count": 120,
      "outputs": []
    },
    {
      "cell_type": "markdown",
      "metadata": {
        "id": "BahWwpx49L1a"
      },
      "source": [
        "### SHA-3\n",
        "\n",
        "Hash size 384 bits"
      ]
    },
    {
      "cell_type": "code",
      "metadata": {
        "id": "F_IYjIHtUbtC"
      },
      "source": [
        "from Crypto.Hash import SHA3_384\n",
        "\n",
        "def sha3_384_test(input):\n",
        "  byte_stream = bytes(input, 'utf-8')\n",
        "  h = SHA3_384.new()\n",
        "  inicio = time.perf_counter()\n",
        "  h.update(byte_stream)\n",
        "  final = time.perf_counter()\n",
        "  return (final - inicio, h.hexdigest())"
      ],
      "execution_count": 121,
      "outputs": []
    },
    {
      "cell_type": "markdown",
      "metadata": {
        "id": "BclTfH_B9Qtx"
      },
      "source": [
        "### SHA-3\n",
        "\n",
        "Hash size 512 bits"
      ]
    },
    {
      "cell_type": "code",
      "metadata": {
        "id": "L8ahFNH9U32M"
      },
      "source": [
        "from Crypto.Hash import SHA3_512\n",
        "\n",
        "def sha3_512_test(input):\n",
        "  byte_stream = bytes(input, 'utf-8')\n",
        "  h = SHA3_512.new()\n",
        "  inicio = time.perf_counter()\n",
        "  h.update(byte_stream)\n",
        "  final = time.perf_counter()\n",
        "  return (final - inicio, h.hexdigest())"
      ],
      "execution_count": 122,
      "outputs": []
    },
    {
      "cell_type": "markdown",
      "metadata": {
        "id": "uREqzS-c9U49"
      },
      "source": [
        "### RSA-OAEP\n",
        "\n",
        "1024 bits"
      ]
    },
    {
      "cell_type": "markdown",
      "metadata": {
        "id": "G47MYv8c9aIW"
      },
      "source": [
        "### RSA-PSS\n",
        "\n",
        "1024 bits"
      ]
    },
    {
      "cell_type": "markdown",
      "metadata": {
        "id": "dTp4Lpkd9euk"
      },
      "source": [
        "### ECDSA Prime Field\n",
        "\n",
        "ECDSA, 521 Bits (Prime Field)"
      ]
    },
    {
      "cell_type": "markdown",
      "metadata": {
        "id": "IkTGRVZP9h68"
      },
      "source": [
        "### ECDSA Binary Field\n",
        "\n",
        "ECDSA, 571 Bits (Binary Field, Koblitz Curve)"
      ]
    },
    {
      "cell_type": "markdown",
      "metadata": {
        "id": "_azKK_fd7p_h"
      },
      "source": [
        "## Resultados"
      ]
    },
    {
      "cell_type": "markdown",
      "metadata": {
        "id": "wdHg1oEnVG2p"
      },
      "source": [
        "### Tablas utilzando Pandas"
      ]
    },
    {
      "cell_type": "code",
      "metadata": {
        "id": "x8Tg8P1ecPtM"
      },
      "source": [
        "import pandas as pd"
      ],
      "execution_count": 123,
      "outputs": []
    },
    {
      "cell_type": "code",
      "metadata": {
        "colab": {
          "base_uri": "https://localhost:8080/"
        },
        "id": "qiEND1kmcYCK",
        "outputId": "52143ccd-aa9b-4774-d429-8969b3c731cb"
      },
      "source": [
        "f = open('hash_data.txt')\n",
        "vectors = []\n",
        "for line in f:\n",
        "  vectors.append(line.replace('\\n', ''))\n",
        "vectors"
      ],
      "execution_count": 124,
      "outputs": [
        {
          "output_type": "execute_result",
          "data": {
            "text/plain": [
              "['f714a27cd2d1bc754f5e4972ab940d366a754e029b6536655d977956a2c53880332424ddf597e6866a22bfca7aa26b7d74bc4c925014c4ed37bfe37245fa42628d1c2ee75dc909edc469ee3452d894',\n",
              " '5fe35923b4e0af7dd24971812a58425519850a506dfa9b0d254795be785786c319a2567cbaa5e35bcf8fe83d943e23fa5169b73adc1fcf8b607084b15e6a013df147e46256e4e803ab75c110f77848136be7d806e8b2f868c16c3a90c14463407038cb7d9285079ef162c6a45cedf9c9f066375c969b5fcbcda37f02aacff4f31cded3767570885426bebd9eca877e44674e9ae2f0c24cdd0e7e1aaf1ff2fe7f80a1c4f5078eb34cd4f06fa94a2d1eab5806ca43fd0f06c60b63d5402b95c70c21ea65a151c5cfaf8262a46be3c722264b',\n",
              " 'ab6b92daf83275cb9c1b76cfb59fbcc8ac53188e0b6980918e7ac0c07c836ca9372d19e11251cca664bbb3c3db2e13b412a9820b65e95612042f5db24643cf9340b9808597735a1f92670ba573a2fb2f088d81087d70565574344af7576d35b2ed98318e2ca0067d4fa8e63f28045b83b6887d4ffa0668a10712ed5759',\n",
              " '035adcb639e5f28bb5c88658f45c1ce0be16e7dafe083b98d0ab45e8dcdbfa38e3234dfd973ba555b0cf8eea3c82ae1a3633fc565b7f2cc839876d3989f35731be371f60de140e3c916231ec780e5165bf5f25d3f67dc73a1c33655dfdf439dfbf1cbba8b779158a810ad7244f06ec078120cd18760af436a238941ce1e687880b5c879dc971a285a74ee85c6a746749a30159ee842e9b03f31d613dddd22975cd7fed06bd049d772cb6cc5a705faa734e87321dc8f2a4ea366a368a98bf06ee2b0b54ac3a3aeea637caebe70ad09ccda93cc06de95df73394a87ac9bbb5083a4d8a2458e91c7d5bf113aecae0ce279fdda76ba690787d26345e94c3edbc16a35c83c4d071b132dd81187bcd9961323011509c8f644a1c0a3f14ee40d7dd186f807f9edc7c02f6761061bbb6dd91a6c96ec0b9f10edbbd29dc52',\n",
              " '8c569727f1d4548f1c66a5c830346259612d10c5fef90518ae2fcdbffac9cd9c0bd5265ab56ddcfeb5e838bf37526a189c1a731b790b4208e37d1d1eeacd43b1630ad07debf1e03a281cf7715276a18df2f25535ea7d9fd9b6317f8bf1cb0c111b5f5c38994aa86bfd69ac8388884de1ed1d7eba583764b3afb1b8ae18ab6ee3bb3a9432c95f7cb7bd361da0e270b73b1503b653cc20d9bd5766932e6655b250cc053e148218a449efed136e661627c4f10dc5a84d22462035b8d7b4e4b11f7fd5272385cd5d67471bf556951e63e4a409a17260e324f203d2104be798a8ff985e080b2eb1160fdacab6aebe123d3802e5298624960f268fb4d4b9708c2098c5ef10beb6362be2298298e391498e69060e0bca9b6fc92aec656ee7f6c802342c11a703c76484295dce03bcb5cb3cc0da0bb1036e753b46416d449d22523719f54b35a306440a2b9d335f03d3a03085a36481fc44b14dc2b652c0a59c34a68f492622671ddda332123b147e92d153008ca2e57cc629e8e5759e48c60b7636e05029d614b4373884e36d8af69b648c79ba4c444a9ce7f2f8a3d846c7171ed15231dcba75725bb26a395129329564c23758ea052f6df355436b89217169365e2f15c734510050f72c3c705afc29d6df838c0492f3e153f70ef338418ca9c5c4bd2373ad6f051ef1121351831affc4caa57e23525ea111c2a1636d0ee07fd4ed4584678e982ace8664e77d0e55be356be558cead3755359c43e4b1f034916ac00e5f2b3d941767a069df7a61750e32aa8a3f8e0b48a5c56f3e9e8a4f518a8f2562dd48242b73f1266a24d2e64299c26fde5dead45737cb22d8b8839300104b04872645a925e77500afdd0c038404eda227da6a702db64e',\n",
              " 'eeaa4e8e343caa827d348cba7d83f4c6cf69f00b968a6174654501655c41a5f19448c04cbe59298306f81e6a3ec988d6385d800d734c137bfa8442a78ae04d65f3fd324cc049706a1a5c1037ea8ce6c83ebb1545ee74d19d7f3769784710846ed26eaa76853307a181086c08cbf39702a92bb49b4f2b2442ba057cc2ddf9d174fb4633b25440778e03a33ac4272722ee415467f7dd9892d27597856c92c2bcdf342bd2e87497479b68d58055474f0ff3cddf3541e1e4a5b576948b5eaf94cd1746c691002e62ff2f774848a27394e77817732761a336e55486a597807b968d84f9be77e2cac628b1f9a19993f21e31e7e5b943406bb7d9156c72b0ba40f1838e14bb8c7790ed498bb78b7c100e1475a7005993c4818e0961f2a2def444cc389e6167d9a5c7ffea2476acf7010d9e3c2030fa1fd62ce5fda1dedd2916d150321aa6676555b92393e401ac154e38e60cba3c44ed5fb6e13e3bf9cd9a082da4fb6cac663970ac82cd331f34dbe0d71170ddeee1084565ac53990b1838b2a0f21bfa3b0a5bdce9441f7997ec539d324aedf10c767572826ec421dc660cfc745f182e1bfbd583b890121e327b846e90b70d5e5fae3dcc544e1a3d33601ccfef157c6f13e2af4b608e2d8ab88a763b3b80578caf2e693d2575dc54d9ad72115b3cce24ec67ef1e2b68f826f1c032ed79ce53e4c4a101ac3b0b92cd97f616acfefb97b76e319fe35f43fb58a4c6bf6a93c98acc65ad0b00e037c41233e30e86217b5e8f61e9c682454abf899b43259cd19883ad5cfa91235921fb8a751b64890be4ab148d366de225a2cb229ce06d6a7a64c6f06f319afcf1f2be9d2747209c065d07aebac19bed4776a78970459ebbd854dcfb67fa2f73efd296b30f0e48a6580ef8c5af32588af2ecdc28df19c07931914c380bfc57709ae80a34f719e6914a2008c13530aca1702cf166b004dc8bce429e0d25e01adb3c5da288a510014424bbbf0a1463a01b075f6eaaadb0f8d9f7905be47b4d809c1b58e618e199a2a72e06',\n",
              " '43025615521d66fe8ec3a3f8ccc5abfab870a462c6b3d1396b8462b98c7f910c37d0ea579154eaf70ffbcc0be971a032ccfd9d96d0a9b829a9a3762e21e3fefcc60e72fedf9a7fffa53433a4b05e0f3ab05d5eb25d52c5eab1a71a2f54ac79ff5882951326394d9db83580ce09d6219bca588ec157f71d06e957f8c20d242c9f55f5fc9d4d777b59b0c75a8edc1ffedc84b5d5c8a5e0eb05bb7db8f234913d6325304fa43c9d32bbf6b269ee1182cd85453eddd12f55556d8edf02c4b13cd4d330f83531dbf2994cf0be56f59147b71f74b94be3dd9e83c8c9477c426c6d1a78de18564a12c0d99307b2c9ab42b6e3317befca0797029e9dd67bd1734e6c36d998565bfac94d1918a35869190d177943c1a8004445cace751c43a75f3d80517fc47cec46e8e382642d76df46dab1a3ddaeab95a2cf3f3ad70369a70f22f293f0cc50b03857c83cfe0bd5d23b92cd8788aac232291da60b4bf3b3788ae60a23b6169b50d7fe446e6ea73debfe1bb34dcb1db37fe2174a685954ebc2d86f102a590c24732bc5a1403d6876d2995fab1e2f6f4723d4a6727a8a8ed72f02a74ccf5f14b5c23d9525dbf2b5472e1345fd223b0846c707b06569650940650f75063b529814e514541a6715f879a875b4f08077517812841e6c5c732eed0c07c08595b9ff0a83b8ecc60b2f98d4e7c696cd616bb0a5ad52d9cf7b3a63a8cdf37212',\n",
              " '09ab78274714140e9e25d81ca9a1cb475945094f39fb2296f651bd311e29813f28b23579b597250b1576c8a30d93a1c7d7ce636b6bd258c3fd900356c7ec055408b53d294ddb3352efdcb76fdd80c59a9bc6acf88b1e6f8d6cd86c5520dd3b90b29dd95d9748068a3441ebaba1d00069ad172d1d2247309e4a133e56b165ed9c2d50513e1c47655ced8cad7de2ea1adc13a72e03b7b5609b9f28c28303ede11f81b8edf3633e1a7021a5450d2638db9ad760f7d1d2cfca2f73ff40029ddbe0c2b7bcf5a4f496eb6dd874fb84f8210b4c0128cfb0fbff3500cf8000fb0798b22dd643b07b58b8a1fc1ae0170add0d719997e900c8bbad68b6ba934997ca8d1f07e637679d160a04c4f0d3e0c65f64d62aa38ad040993f2cfa3d2065fd6d21eff8f07f6235b6f6db6e61359fe1058f02a62cf388411e1e49745f0f9a5778bbe9aafa03e969c1e3f0a176ec9d8357f4bdb63b0c6ff2d0b287cb284831ca74c5d7c20fab4461be39090636e11fd2defccf02d7bdcf7c3a63aea7a0b37180e8a67feb345fba46355fef44a9fc70f9210fff3108eeee06e19a85b2d039a4a15cc6a9cb73079440aebf6a04d726d71ea99616ecd68716b94fbdd591bfc01054588d1f0ad38b1b76b2c041eec9459b6afcf7ddda4a708dbd0b3666ef7531ffc26563a8515dd39411c8ca3ea986420504a49c19a46b919b399d6b0072fb75b7130ab00b4817c74a38794527de16065d1429eb95f142d28a558ec66bc25872816ed0dc11960b5084144c99c5348278ebc4114e186ad51ca03b64ad6e889412a4fb3e4f82e3415489cdc92fe054d17ff63ae62c69b72e552710aa8ad36cb83c6ae4dc7126d9bfbca28a786d40e50b05c89e2fed517f556765ffe5c46015cbd8194e32abc41e8f711773e2bcac9039f1a71975f8986a5038a32d9fc3de2cd5cdfa63c963265ab95a30b28e85edfd612bdcd33fb7062229b228c55fef1458df05554b28021236435e356c042ecbd38e9aaef31591624ce8bc3eedaeb0cc42ef67722ed7f1515937676dcccd210ebbc52867a17fee7693933d2bcd136ecc9210db98335f97ab6d9c5c21f770c47e5c10bc4e070636089c341f388f1691ddef47491082475be7177b2499187581e35f763eaa4a31d2e112d249ad583f81c7019e99234417a7cf01dba91d5565bf046b0097c4958928c99b76a3d25317a652711cb316a158e229d3c4d2f5d6c7e5aa29b4ade4',\n",
              " 'd43522210236c67e4981bf3f441b941cd52c5732b94ad76160fa16f3fc74fe7ed9a74f0bec7ddc77ae60f71a2bfd2aa7554828539fc0023ac7f49efef34666b100ef3df51743b76181368927bc203ef4cebd2c18d978a7e7f0e9745f299c800bf314d226aa0fbf04690c5dae200b3acde6944dc990fa2c3182e1805ec5feb6535a1ef8e8ce6a5c280fe95bf77e4684f845d471adebcffbe026e5aa42f0f46f53dc169681abdbf6941ad56b49ff5a863d9485820d137e7abc83fbda55d10714d12203943a68eaf51133d975eecbcea6667baf67312f8f138c422ef8dd91be0b96d4edd95b2e1fc16702fb612c092a4e39a15b0861688b2d1a0a83ec2357a2bd6a99dc4f2c2403c25e2e45174ce1f7e580af914de5e6f92f2c84049e6f4c3a921419d9ddf5731d61bd60bf7f957cbbd3014c571e04d061838b57b8f709970ef35efdeb6bfd42f5044e3f70825102017f8521b763084e4b90ff2ca7dd3862a6460eed1be28dba1415d7746006c69b4e53d3d6b804378a40be50abda3945d28bf4ed907028ed0301fa21a697f43e6d2cb6b51262e9daa9c775457b58f478114466c38ff2266544441df47e1e35ffa32210f17dbefb38d6691da74529f4194759035891a9c43da566e418a4fcaf5163b9ca50c0d3209b37ad1e3eb05623709b5232733f9eebbc4feeb954bf394c7ed5774a9a83aa4149f41be1d265e668c536b85dde41d8812b6a64037177def3cd23e7f9976d49478b363bcc2b0be1aa5f4013eb5f3e5f6fd21d51293876f18c85728e3f0e27ba18a9259648104b50d387e0e944bfdf3c9ef9913c956e617dfeefedf685c959059eebe8b3be4bcd3aca853ec4d0c5cb76f5e8eeadaedee3873353b9a6318eaa30bf99a81a94a238a777a1832bf63baa155be65b2cdc4fa21912f90126ad26c24565fa8c5434de359fc223d7a721e72622ba3d00428788463a8328ebff5f594a4b7757bde804c76b2b935261bfb693e5a3f9330676175278f36e299fb8b1eeea4bddf8625e6e248352d2774afb1e058fa300119551f475e04bbb4546d90aaf494c7f25a43fd8bf241d67dab9e3c106cd27b71fd45a87b9254a53c108ead16210564526ab12ac5ef7923ac3d700075d473906a4ec1936e6eff81ce80c7470d0e67117429e5f51caa3bc347accd959d4a4e0d5ea05166ac3e85eff017bff4ec174a6ddc3a5af2fcbd1a03b46bff61d318c250c3745da8c19b683e4537c11d3fd62fc7fefea88ae2829483871d8e0bd3da90e93d4d7ec02b0016fb4273834674b577ce50f927536ab52bb1441411e9fc0a0a65209e1d43650722b55c5d7ef7274fb2df76ac8fb2f1af501b5ff1f382d821cf2311d8c1b8ec1b0beb17580ca5c41f7179e4ab2a4013eb92305f29db7cd4ac3fc195aff4874ca6430af7f5b4e8d77f342c0f578f714df4728eb64e0']"
            ]
          },
          "metadata": {},
          "execution_count": 124
        }
      ]
    },
    {
      "cell_type": "markdown",
      "metadata": {
        "id": "_axe7FHGel0P"
      },
      "source": [
        "#### Hashing"
      ]
    },
    {
      "cell_type": "code",
      "metadata": {
        "id": "GB5aN8M3AU6f"
      },
      "source": [
        "def genera_prueba(vector, index, length):\n",
        "  list_tests = []\n",
        "  for i in range(100):\n",
        "    dict_round = {}\n",
        "    dict_round['Vector Number'] = index\n",
        "    dict_round['Test Vectors'] = vector\n",
        "    dict_round['Length of vector in Bytes'] = length\n",
        "    dict_round['SHA-2 384'] = sha2_384_test(vector)[0]\n",
        "    dict_round['SHA-2 512'] = sha2_512_test(vector)[0]\n",
        "    dict_round['SHA-3 384'] = sha3_384_test(vector)[0]\n",
        "    dict_round['SHA-3 512'] = sha3_512_test(vector)[0]\n",
        "    list_tests.append(dict_round)\n",
        "  return list_tests"
      ],
      "execution_count": 125,
      "outputs": []
    },
    {
      "cell_type": "code",
      "metadata": {
        "id": "ndmWySiYdPSz"
      },
      "source": [
        "lista = []\n",
        "i = 0\n",
        "for vector in vectors:\n",
        "  lista += genera_prueba(vector, i, len(vector.encode('utf-8')))\n",
        "  i += 1"
      ],
      "execution_count": 126,
      "outputs": []
    },
    {
      "cell_type": "code",
      "metadata": {
        "colab": {
          "base_uri": "https://localhost:8080/",
          "height": 507
        },
        "id": "lekqJUw5eF-p",
        "outputId": "00605f46-a455-4cf7-fd3b-6aecc88a6208"
      },
      "source": [
        "pd.set_option(\"display.precision\", 12)\n",
        "hash_data = pd.DataFrame(lista)\n",
        "hash_data = hash_data.sort_values(by=['Length of vector in Bytes'])\n",
        "hash_data"
      ],
      "execution_count": 127,
      "outputs": [
        {
          "output_type": "execute_result",
          "data": {
            "text/html": [
              "<div>\n",
              "<style scoped>\n",
              "    .dataframe tbody tr th:only-of-type {\n",
              "        vertical-align: middle;\n",
              "    }\n",
              "\n",
              "    .dataframe tbody tr th {\n",
              "        vertical-align: top;\n",
              "    }\n",
              "\n",
              "    .dataframe thead th {\n",
              "        text-align: right;\n",
              "    }\n",
              "</style>\n",
              "<table border=\"1\" class=\"dataframe\">\n",
              "  <thead>\n",
              "    <tr style=\"text-align: right;\">\n",
              "      <th></th>\n",
              "      <th>Vector Number</th>\n",
              "      <th>Test Vectors</th>\n",
              "      <th>Length of vector in Bytes</th>\n",
              "      <th>SHA-2 384</th>\n",
              "      <th>SHA-2 512</th>\n",
              "      <th>SHA-3 384</th>\n",
              "      <th>SHA-3 512</th>\n",
              "    </tr>\n",
              "  </thead>\n",
              "  <tbody>\n",
              "    <tr>\n",
              "      <th>0</th>\n",
              "      <td>0</td>\n",
              "      <td>f714a27cd2d1bc754f5e4972ab940d366a754e029b6536...</td>\n",
              "      <td>158</td>\n",
              "      <td>0.000024784000</td>\n",
              "      <td>0.000011403001</td>\n",
              "      <td>0.000013649002</td>\n",
              "      <td>0.000007413000</td>\n",
              "    </tr>\n",
              "    <tr>\n",
              "      <th>72</th>\n",
              "      <td>0</td>\n",
              "      <td>f714a27cd2d1bc754f5e4972ab940d366a754e029b6536...</td>\n",
              "      <td>158</td>\n",
              "      <td>0.000002319000</td>\n",
              "      <td>0.000002299003</td>\n",
              "      <td>0.000002489000</td>\n",
              "      <td>0.000003246001</td>\n",
              "    </tr>\n",
              "    <tr>\n",
              "      <th>71</th>\n",
              "      <td>0</td>\n",
              "      <td>f714a27cd2d1bc754f5e4972ab940d366a754e029b6536...</td>\n",
              "      <td>158</td>\n",
              "      <td>0.000002307999</td>\n",
              "      <td>0.000002273002</td>\n",
              "      <td>0.000002541001</td>\n",
              "      <td>0.000003151999</td>\n",
              "    </tr>\n",
              "    <tr>\n",
              "      <th>70</th>\n",
              "      <td>0</td>\n",
              "      <td>f714a27cd2d1bc754f5e4972ab940d366a754e029b6536...</td>\n",
              "      <td>158</td>\n",
              "      <td>0.000002373999</td>\n",
              "      <td>0.000002254998</td>\n",
              "      <td>0.000002517998</td>\n",
              "      <td>0.000003183002</td>\n",
              "    </tr>\n",
              "    <tr>\n",
              "      <th>69</th>\n",
              "      <td>0</td>\n",
              "      <td>f714a27cd2d1bc754f5e4972ab940d366a754e029b6536...</td>\n",
              "      <td>158</td>\n",
              "      <td>0.000002305998</td>\n",
              "      <td>0.000002334000</td>\n",
              "      <td>0.000002488003</td>\n",
              "      <td>0.000003229998</td>\n",
              "    </tr>\n",
              "    <tr>\n",
              "      <th>...</th>\n",
              "      <td>...</td>\n",
              "      <td>...</td>\n",
              "      <td>...</td>\n",
              "      <td>...</td>\n",
              "      <td>...</td>\n",
              "      <td>...</td>\n",
              "      <td>...</td>\n",
              "    </tr>\n",
              "    <tr>\n",
              "      <th>827</th>\n",
              "      <td>8</td>\n",
              "      <td>d43522210236c67e4981bf3f441b941cd52c5732b94ad7...</td>\n",
              "      <td>2042</td>\n",
              "      <td>0.000009190000</td>\n",
              "      <td>0.000009084000</td>\n",
              "      <td>0.000014395999</td>\n",
              "      <td>0.000020181000</td>\n",
              "    </tr>\n",
              "    <tr>\n",
              "      <th>826</th>\n",
              "      <td>8</td>\n",
              "      <td>d43522210236c67e4981bf3f441b941cd52c5732b94ad7...</td>\n",
              "      <td>2042</td>\n",
              "      <td>0.000009064999</td>\n",
              "      <td>0.000009126001</td>\n",
              "      <td>0.000014391000</td>\n",
              "      <td>0.000020211002</td>\n",
              "    </tr>\n",
              "    <tr>\n",
              "      <th>824</th>\n",
              "      <td>8</td>\n",
              "      <td>d43522210236c67e4981bf3f441b941cd52c5732b94ad7...</td>\n",
              "      <td>2042</td>\n",
              "      <td>0.000015267000</td>\n",
              "      <td>0.000009161002</td>\n",
              "      <td>0.000014454999</td>\n",
              "      <td>0.000020231000</td>\n",
              "    </tr>\n",
              "    <tr>\n",
              "      <th>835</th>\n",
              "      <td>8</td>\n",
              "      <td>d43522210236c67e4981bf3f441b941cd52c5732b94ad7...</td>\n",
              "      <td>2042</td>\n",
              "      <td>0.000009043000</td>\n",
              "      <td>0.000014066001</td>\n",
              "      <td>0.000014620000</td>\n",
              "      <td>0.000020126001</td>\n",
              "    </tr>\n",
              "    <tr>\n",
              "      <th>899</th>\n",
              "      <td>8</td>\n",
              "      <td>d43522210236c67e4981bf3f441b941cd52c5732b94ad7...</td>\n",
              "      <td>2042</td>\n",
              "      <td>0.000013575002</td>\n",
              "      <td>0.000013016997</td>\n",
              "      <td>0.000014400001</td>\n",
              "      <td>0.000020207997</td>\n",
              "    </tr>\n",
              "  </tbody>\n",
              "</table>\n",
              "<p>900 rows × 7 columns</p>\n",
              "</div>"
            ],
            "text/plain": [
              "     Vector Number  ...       SHA-3 512\n",
              "0                0  ...  0.000007413000\n",
              "72               0  ...  0.000003246001\n",
              "71               0  ...  0.000003151999\n",
              "70               0  ...  0.000003183002\n",
              "69               0  ...  0.000003229998\n",
              "..             ...  ...             ...\n",
              "827              8  ...  0.000020181000\n",
              "826              8  ...  0.000020211002\n",
              "824              8  ...  0.000020231000\n",
              "835              8  ...  0.000020126001\n",
              "899              8  ...  0.000020207997\n",
              "\n",
              "[900 rows x 7 columns]"
            ]
          },
          "metadata": {},
          "execution_count": 127
        }
      ]
    },
    {
      "cell_type": "code",
      "metadata": {
        "colab": {
          "base_uri": "https://localhost:8080/",
          "height": 359
        },
        "id": "8H9lEQbhGubQ",
        "outputId": "7a992212-0e3a-408a-8c5f-6e83ebd444ac"
      },
      "source": [
        "hash_data_mean = hash_data.groupby('Length of vector in Bytes').mean()\n",
        "hash_data_mean.set_index('Vector Number')\n",
        "hash_data_mean"
      ],
      "execution_count": 128,
      "outputs": [
        {
          "output_type": "execute_result",
          "data": {
            "text/html": [
              "<div>\n",
              "<style scoped>\n",
              "    .dataframe tbody tr th:only-of-type {\n",
              "        vertical-align: middle;\n",
              "    }\n",
              "\n",
              "    .dataframe tbody tr th {\n",
              "        vertical-align: top;\n",
              "    }\n",
              "\n",
              "    .dataframe thead th {\n",
              "        text-align: right;\n",
              "    }\n",
              "</style>\n",
              "<table border=\"1\" class=\"dataframe\">\n",
              "  <thead>\n",
              "    <tr style=\"text-align: right;\">\n",
              "      <th></th>\n",
              "      <th>Vector Number</th>\n",
              "      <th>SHA-2 384</th>\n",
              "      <th>SHA-2 512</th>\n",
              "      <th>SHA-3 384</th>\n",
              "      <th>SHA-3 512</th>\n",
              "    </tr>\n",
              "    <tr>\n",
              "      <th>Length of vector in Bytes</th>\n",
              "      <th></th>\n",
              "      <th></th>\n",
              "      <th></th>\n",
              "      <th></th>\n",
              "      <th></th>\n",
              "    </tr>\n",
              "  </thead>\n",
              "  <tbody>\n",
              "    <tr>\n",
              "      <th>158</th>\n",
              "      <td>0</td>\n",
              "      <td>0.00000446975</td>\n",
              "      <td>0.00000274472</td>\n",
              "      <td>0.00000295085</td>\n",
              "      <td>0.00000356193</td>\n",
              "    </tr>\n",
              "    <tr>\n",
              "      <th>250</th>\n",
              "      <td>2</td>\n",
              "      <td>0.00000251527</td>\n",
              "      <td>0.00000252125</td>\n",
              "      <td>0.00000335798</td>\n",
              "      <td>0.00000400817</td>\n",
              "    </tr>\n",
              "    <tr>\n",
              "      <th>418</th>\n",
              "      <td>1</td>\n",
              "      <td>0.00000343238</td>\n",
              "      <td>0.00000321633</td>\n",
              "      <td>0.00000457601</td>\n",
              "      <td>0.00000524807</td>\n",
              "    </tr>\n",
              "    <tr>\n",
              "      <th>628</th>\n",
              "      <td>3</td>\n",
              "      <td>0.00000600979</td>\n",
              "      <td>0.00000625279</td>\n",
              "      <td>0.00000865354</td>\n",
              "      <td>0.00001057246</td>\n",
              "    </tr>\n",
              "    <tr>\n",
              "      <th>1020</th>\n",
              "      <td>6</td>\n",
              "      <td>0.00000556193</td>\n",
              "      <td>0.00000541205</td>\n",
              "      <td>0.00000825440</td>\n",
              "      <td>0.00001145270</td>\n",
              "    </tr>\n",
              "    <tr>\n",
              "      <th>1258</th>\n",
              "      <td>4</td>\n",
              "      <td>0.00000679676</td>\n",
              "      <td>0.00000669917</td>\n",
              "      <td>0.00001131857</td>\n",
              "      <td>0.00001442242</td>\n",
              "    </tr>\n",
              "    <tr>\n",
              "      <th>1468</th>\n",
              "      <td>5</td>\n",
              "      <td>0.00000771374</td>\n",
              "      <td>0.00000761696</td>\n",
              "      <td>0.00001203902</td>\n",
              "      <td>0.00001577682</td>\n",
              "    </tr>\n",
              "    <tr>\n",
              "      <th>1750</th>\n",
              "      <td>7</td>\n",
              "      <td>0.00000843594</td>\n",
              "      <td>0.00000839435</td>\n",
              "      <td>0.00001304499</td>\n",
              "      <td>0.00001857146</td>\n",
              "    </tr>\n",
              "    <tr>\n",
              "      <th>2042</th>\n",
              "      <td>8</td>\n",
              "      <td>0.00000942112</td>\n",
              "      <td>0.00000980269</td>\n",
              "      <td>0.00001520183</td>\n",
              "      <td>0.00002137085</td>\n",
              "    </tr>\n",
              "  </tbody>\n",
              "</table>\n",
              "</div>"
            ],
            "text/plain": [
              "                           Vector Number  ...      SHA-3 512\n",
              "Length of vector in Bytes                 ...               \n",
              "158                                    0  ...  0.00000356193\n",
              "250                                    2  ...  0.00000400817\n",
              "418                                    1  ...  0.00000524807\n",
              "628                                    3  ...  0.00001057246\n",
              "1020                                   6  ...  0.00001145270\n",
              "1258                                   4  ...  0.00001442242\n",
              "1468                                   5  ...  0.00001577682\n",
              "1750                                   7  ...  0.00001857146\n",
              "2042                                   8  ...  0.00002137085\n",
              "\n",
              "[9 rows x 5 columns]"
            ]
          },
          "metadata": {},
          "execution_count": 128
        }
      ]
    },
    {
      "cell_type": "markdown",
      "metadata": {
        "id": "OZHs28aGfO51"
      },
      "source": [
        "##### Gráficas"
      ]
    },
    {
      "cell_type": "code",
      "metadata": {
        "id": "K6iaVDhrf3Gq"
      },
      "source": [
        "import matplotlib.pyplot as plt"
      ],
      "execution_count": 129,
      "outputs": []
    },
    {
      "cell_type": "code",
      "metadata": {
        "colab": {
          "base_uri": "https://localhost:8080/",
          "height": 309
        },
        "id": "hneYE33yjR2Z",
        "outputId": "ed4d35fb-34c2-4c83-89f4-8344aa8621da"
      },
      "source": [
        "ax = hash_data_mean[['Vector Number', 'SHA-2 384', 'SHA-2 512', 'SHA-3 384', 'SHA-3 512']].plot(x='Vector Number',\n",
        "        kind='bar',\n",
        "        stacked=False,\n",
        "        title='Time Hashing',\n",
        "        ylabel='Time [s]')\n",
        "ax"
      ],
      "execution_count": 130,
      "outputs": [
        {
          "output_type": "execute_result",
          "data": {
            "text/plain": [
              "<matplotlib.axes._subplots.AxesSubplot at 0x7fde67d02850>"
            ]
          },
          "metadata": {},
          "execution_count": 130
        },
        {
          "output_type": "display_data",
          "data": {
            "image/png": "[encoded data removed]",
            "text/plain": [
              "<Figure size 432x288 with 1 Axes>"
            ]
          },
          "metadata": {
            "needs_background": "light"
          }
        }
      ]
    },
    {
      "cell_type": "markdown",
      "metadata": {
        "id": "LI2ykrTk90lw"
      },
      "source": [
        "### Creación de tablas Excel"
      ]
    },
    {
      "cell_type": "markdown",
      "metadata": {
        "id": "figdamK_Hz8C"
      },
      "source": [
        "#### Encrypt"
      ]
    },
    {
      "cell_type": "code",
      "metadata": {
        "colab": {
          "base_uri": "https://localhost:8080/"
        },
        "id": "cBW_EU1BH2sQ",
        "outputId": "b2b2baa5-33a1-4541-9ebf-6b3c3e85d44a"
      },
      "source": [
        "###########Creación de excel de Encriptaciones##################\n",
        "workbookE = xlsxwriter.Workbook('Resultados_Encriptar.xlsx')\n",
        "worksheetE = workbookE.add_worksheet()\n",
        "\n",
        "#formato de celda\n",
        "cell_format = workbookE.add_format()\n",
        "cell_format.set_bold(True)\n",
        "cell_format.set_bg_color('yellow')\n",
        "cell_format.set_align('center')\n",
        "cell_format.set_border(6)\n",
        "cell_format.set_font_size(14)\n",
        "\n",
        "worksheetE.set_column(0,0,20)\n",
        "worksheetE.set_column(1,2,60)\n",
        "worksheetE.set_column(3,4,20)\n",
        "worksheetE.set_column(5,7,40)\n",
        "\n",
        "row = 1\n",
        "col = 0\n",
        "\n",
        "worksheetE.write('A1', 'Algorithm', cell_format)\n",
        "worksheetE.write('B1', 'Plaintext', cell_format)\n",
        "worksheetE.write('C1', 'Ciphertext', cell_format)\n",
        "worksheetE.write('D1', 'Time', cell_format)\n",
        "worksheetE.write('E1', 'Operacion', cell_format)\n",
        "worksheetE.write('F1', 'Promedio ChaCha20', cell_format)\n",
        "worksheetE.write('G1', 'Promedio AES_ECB', cell_format)\n",
        "worksheetE.write('H1', 'Promedio AES_CBC', cell_format)\n",
        "\n",
        "\n",
        "worksheetE.write_array_formula('F2:F2','{=AVERAGE(D2:D9)}')\n",
        "worksheetE.write_array_formula('G2:G2','{=AVERAGE(D10:D17)}')\n",
        "worksheetE.write_array_formula('H2:H2','{=AVERAGE(D17:D25)}')"
      ],
      "execution_count": 131,
      "outputs": [
        {
          "output_type": "execute_result",
          "data": {
            "text/plain": [
              "0"
            ]
          },
          "metadata": {},
          "execution_count": 131
        }
      ]
    },
    {
      "cell_type": "markdown",
      "metadata": {
        "id": "_0zCI7jzHvsX"
      },
      "source": [
        "#### Decrypt"
      ]
    },
    {
      "cell_type": "code",
      "metadata": {
        "id": "QTzT6vOn9_E_",
        "colab": {
          "base_uri": "https://localhost:8080/"
        },
        "outputId": "86a1cf1e-099a-489b-ea25-6e104390abe3"
      },
      "source": [
        "###########Creación de excel de Decriptaciones##################\n",
        "workbookD = xlsxwriter.Workbook('Resultados_Decriptar.xlsx')\n",
        "worksheetD = workbookD.add_worksheet()\n",
        "\n",
        "#formato de celda\n",
        "cell_format = workbookD.add_format()\n",
        "cell_format.set_bold(True)\n",
        "cell_format.set_bg_color('yellow')\n",
        "cell_format.set_align('center')\n",
        "cell_format.set_border(6)\n",
        "cell_format.set_font_size(14)\n",
        "\n",
        "worksheetD.set_column(0,0,20)\n",
        "worksheetD.set_column(1,2,60)\n",
        "worksheetD.set_column(3,4,20)\n",
        "worksheetD.set_column(5,7,60)\n",
        "\n",
        "row = 1\n",
        "col = 0\n",
        "worksheetD.write('A1', 'Algorithm', cell_format)\n",
        "worksheetD.write('B1', 'Ciphertext', cell_format)\n",
        "worksheetD.write('C1', 'Plaintext', cell_format)\n",
        "worksheetD.write('D1', 'Time', cell_format)\n",
        "worksheetD.write('E1', 'Operacion', cell_format)\n",
        "worksheetD.write('F1', 'Promedio ChaCha20', cell_format)\n",
        "worksheetD.write('G1', 'Promedio AES_ECB', cell_format)\n",
        "worksheetD.write('H1', 'Promedio AES_CBC', cell_format)\n",
        "\n",
        "\n",
        "worksheetD.write_array_formula('F2:F2','{=AVERAGE(D2:D9)}')\n",
        "worksheetD.write_array_formula('G2:G2','{=AVERAGE(D10:D17)}')\n",
        "worksheetD.write_array_formula('H2:H2','{=AVERAGE(D17:D25)}')"
      ],
      "execution_count": 132,
      "outputs": [
        {
          "output_type": "execute_result",
          "data": {
            "text/plain": [
              "0"
            ]
          },
          "metadata": {},
          "execution_count": 132
        }
      ]
    },
    {
      "cell_type": "markdown",
      "metadata": {
        "id": "9KjjVfLO92jO"
      },
      "source": [
        "### Llenado de Excel"
      ]
    },
    {
      "cell_type": "markdown",
      "metadata": {
        "id": "-ZKub8tSIM06"
      },
      "source": [
        "#### Encrypt"
      ]
    },
    {
      "cell_type": "code",
      "metadata": {
        "id": "I3ulWtYQIS_-"
      },
      "source": [
        "#Abriendo el documento de pruebas\n",
        "f = open('plain_text.txt')\n",
        "keys = []\n",
        "i = 0\n",
        "\n",
        "#realizando las mediciones y pruebas\n",
        "for linea in f:\n",
        "    #ChaCha20\n",
        "    key = get_random_bytes(32)\n",
        "    keys.append(key)\n",
        "    worksheetE.write(row, col, 'ChaCha20')\n",
        "    ciphertext, tiempo, nonce = Chacha_20_test(key, linea)\n",
        "\n",
        "    worksheetE.write(row, col + 4, 'Cifrar')\n",
        "    worksheetE.write(row, col + 1, linea)\n",
        "    worksheetE.write(row, col + 2, ciphertext)\n",
        "    worksheetE.write_number(row, col + 3, tiempo)\n",
        "    row += 1\n",
        "\n",
        "f.close()\n",
        "f = open('plain_text.txt')\n",
        "i = 0\n",
        "\n",
        "for linea in f:\n",
        "    #AES_ECB\n",
        "    worksheetE.write(row, col, 'AES_ECB')\n",
        "    ciphertext, tiempo = AES_ECB_test(keys[i], linea)\n",
        "    i += 1\n",
        "\n",
        "    worksheetE.write(row, col + 4, 'Cifrar')\n",
        "    worksheetE.write(row, col + 1, linea)\n",
        "    worksheetE.write(row, col + 2, ciphertext)\n",
        "    worksheetE.write_number(row, col + 3, tiempo)\n",
        "    row += 1\n",
        "\n",
        "\n",
        "f.close()\n",
        "f = open('plain_text.txt')\n",
        "\n",
        "i = 0\n",
        "\n",
        "for linea in f:\n",
        "    #AES_CBC\n",
        "    worksheetE.write(row, col, 'AES_CBC')\n",
        "    ciphertext, tiempo = AES_CBC_test(keys[i], linea)\n",
        "    i += 1\n",
        "\n",
        "    worksheetE.write(row, col + 4, 'Cifrar')\n",
        "    worksheetE.write(row, col + 1, linea)\n",
        "    worksheetE.write(row, col + 2, ciphertext)\n",
        "    worksheetE.write_number(row, col + 3, tiempo)\n",
        "\n",
        "    row += 1\n",
        "\n",
        "f.close()\n",
        "workbookE.close()\n"
      ],
      "execution_count": 133,
      "outputs": []
    },
    {
      "cell_type": "markdown",
      "metadata": {
        "id": "bCfheevjILQw"
      },
      "source": [
        "#### Decrypt"
      ]
    },
    {
      "cell_type": "code",
      "metadata": {
        "id": "hMMKWim7-CD8"
      },
      "source": [
        "#Abriendo el documento de pruebas\n",
        "keys = []\n",
        "i = 0\n",
        "f = open('plain_text.txt')\n",
        "#realizando las mediciones y pruebas\n",
        "\n",
        "for linea in f:\n",
        "\n",
        "    #ChaCha20\n",
        "    key = get_random_bytes(32)\n",
        "    keys.append(key)\n",
        "    plaintext, tiempo, ct = Chacha_20_test_dec(key, linea)\n",
        "    i += 1\n",
        "    worksheetD.write(row, col, 'ChaCha20')\n",
        "    worksheetD.write(row, col + 4, 'Descifrar')\n",
        "    worksheetD.write(row, col + 1, ct)\n",
        "    worksheetD.write(row, col + 2, plaintext)\n",
        "    worksheetD.write_number(row, col + 3, tiempo)\n",
        "\n",
        "    row += 1\n",
        "\n",
        "f.close()\n",
        "\n",
        "f = open('plain_text.txt')\n",
        "i = 0\n",
        "for linea in f:\n",
        "\n",
        "    #AES_ECB\n",
        "    worksheetD.write(row, col, 'AES_ECB')\n",
        "    ciphertext, tiempo, pt = AES_ECB_test_dec(keys[i], linea)\n",
        "    i += 1\n",
        "\n",
        "    worksheetD.write(row, col + 4, 'Descifrar')\n",
        "    worksheetD.write(row, col + 1, linea)\n",
        "    worksheetD.write(row, col + 2, ciphertext)\n",
        "    worksheetD.write_number(row, col + 3, tiempo)\n",
        "\n",
        "    row += 1\n",
        "\n",
        "f.close()\n",
        "\n",
        "i = 0\n",
        "f = open('plain_text.txt')\n",
        "for linea in f:\n",
        "\n",
        "    #AES_CBC\n",
        "    worksheetD.write(row, col, 'AES_CBC')\n",
        "    ciphertext, tiempo, plaintext = AES_CBC_test_dec(keys[i], linea)\n",
        "    i += 1\n",
        "    worksheetD.write(row, col + 4, 'Descifrar')\n",
        "    worksheetD.write(row, col + 1, linea)\n",
        "    worksheetD.write(row, col + 2, ciphertext)\n",
        "    worksheetD.write_number(row, col + 3, tiempo)\n",
        "\n",
        "    row += 1\n",
        "\n",
        "f.close()\n",
        "workbookD.close()"
      ],
      "execution_count": 134,
      "outputs": []
    }
  ]
}