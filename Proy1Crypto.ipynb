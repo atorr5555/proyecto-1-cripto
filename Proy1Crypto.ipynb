{
  "nbformat": 4,
  "nbformat_minor": 0,
  "metadata": {
    "colab": {
      "name": "Proy1Crypto.ipynb",
      "provenance": [],
      "collapsed_sections": [
        "sFoTwd0V8YeM",
        "6aOX7rSvEj78",
        "y9Hr3I96EhXP",
        "PoXbEYZ68oDd",
        "OC3eOgrw8u0K",
        "j-z_Zw62_204"
      ],
      "include_colab_link": true
    },
    "kernelspec": {
      "name": "python3",
      "display_name": "Python 3"
    },
    "language_info": {
      "name": "python"
    }
  },
  "cells": [
    {
      "cell_type": "markdown",
      "metadata": {
        "id": "view-in-github",
        "colab_type": "text"
      },
      "source": [
        "<a href=\"https://colab.research.google.com/github/atorr5555/proyecto-1-cripto/blob/main/Proy1Crypto.ipynb\" target=\"_parent\"><img src=\"https://colab.research.google.com/assets/colab-badge.svg\" alt=\"Open In Colab\"/></a>"
      ]
    },
    {
      "cell_type": "markdown",
      "metadata": {
        "id": "5t0SqmPM6RX9"
      },
      "source": [
        "# Proyecto 1 Criptografía\n",
        "\n",
        "Equipo:\n",
        "\n",
        "Gutiérrez Chávez Sergio Daniel\n",
        "\n",
        "Mekibes Meza Malik\n",
        "\n",
        "Torres Verastegui José Antonio"
      ]
    },
    {
      "cell_type": "markdown",
      "metadata": {
        "id": "B_0N9bVS63sz"
      },
      "source": [
        "## Instalando bibliotecas necesarias"
      ]
    },
    {
      "cell_type": "code",
      "metadata": {
        "colab": {
          "base_uri": "https://localhost:8080/"
        },
        "id": "LekZHv2a5zlm",
        "outputId": "905218d6-0c27-46b4-ba90-ab81645d2048"
      },
      "source": [
        "!pip install pycryptodome\n",
        "!pip install XlsxWriter\n",
        "!pip install matplotlib\n",
        "!pip install ecdsa\n",
        "!pip install cryptography"
      ],
      "execution_count": 1,
      "outputs": [
        {
          "output_type": "stream",
          "name": "stdout",
          "text": [
            "Collecting pycryptodome\n",
            "  Downloading pycryptodome-3.11.0-cp35-abi3-manylinux2010_x86_64.whl (1.9 MB)\n",
            "\u001b[K     |████████████████████████████████| 1.9 MB 8.1 MB/s \n",
            "\u001b[?25hInstalling collected packages: pycryptodome\n",
            "Successfully installed pycryptodome-3.11.0\n",
            "Collecting XlsxWriter\n",
            "  Downloading XlsxWriter-3.0.2-py3-none-any.whl (149 kB)\n",
            "\u001b[K     |████████████████████████████████| 149 kB 10.2 MB/s \n",
            "\u001b[?25hInstalling collected packages: XlsxWriter\n",
            "Successfully installed XlsxWriter-3.0.2\n",
            "Requirement already satisfied: matplotlib in /usr/local/lib/python3.7/dist-packages (3.2.2)\n",
            "Requirement already satisfied: pyparsing!=2.0.4,!=2.1.2,!=2.1.6,>=2.0.1 in /usr/local/lib/python3.7/dist-packages (from matplotlib) (2.4.7)\n",
            "Requirement already satisfied: kiwisolver>=1.0.1 in /usr/local/lib/python3.7/dist-packages (from matplotlib) (1.3.2)\n",
            "Requirement already satisfied: numpy>=1.11 in /usr/local/lib/python3.7/dist-packages (from matplotlib) (1.19.5)\n",
            "Requirement already satisfied: python-dateutil>=2.1 in /usr/local/lib/python3.7/dist-packages (from matplotlib) (2.8.2)\n",
            "Requirement already satisfied: cycler>=0.10 in /usr/local/lib/python3.7/dist-packages (from matplotlib) (0.10.0)\n",
            "Requirement already satisfied: six in /usr/local/lib/python3.7/dist-packages (from cycler>=0.10->matplotlib) (1.15.0)\n",
            "Collecting ecdsa\n",
            "  Downloading ecdsa-0.17.0-py2.py3-none-any.whl (119 kB)\n",
            "\u001b[K     |████████████████████████████████| 119 kB 7.9 MB/s \n",
            "\u001b[?25hRequirement already satisfied: six>=1.9.0 in /usr/local/lib/python3.7/dist-packages (from ecdsa) (1.15.0)\n",
            "Installing collected packages: ecdsa\n",
            "Successfully installed ecdsa-0.17.0\n",
            "Collecting cryptography\n",
            "  Downloading cryptography-35.0.0-cp36-abi3-manylinux_2_24_x86_64.whl (3.5 MB)\n",
            "\u001b[K     |████████████████████████████████| 3.5 MB 9.0 MB/s \n",
            "\u001b[?25hRequirement already satisfied: cffi>=1.12 in /usr/local/lib/python3.7/dist-packages (from cryptography) (1.14.6)\n",
            "Requirement already satisfied: pycparser in /usr/local/lib/python3.7/dist-packages (from cffi>=1.12->cryptography) (2.20)\n",
            "Installing collected packages: cryptography\n",
            "Successfully installed cryptography-35.0.0\n"
          ]
        }
      ]
    },
    {
      "cell_type": "markdown",
      "metadata": {
        "id": "0Ag64Zo7V6N7"
      },
      "source": [
        "## Descargando datos utilizados"
      ]
    },
    {
      "cell_type": "code",
      "metadata": {
        "colab": {
          "base_uri": "https://localhost:8080/"
        },
        "id": "zF8Xkv4fVtTS",
        "outputId": "e2d15d7e-95cf-4e22-a0c2-2806c04b3333"
      },
      "source": [
        "!wget https://raw.githubusercontent.com/atorr5555/proyecto-1-cripto/main/hash_data.txt\n",
        "!wget https://raw.githubusercontent.com/atorr5555/proyecto-1-cripto/main/plain_text.txt"
      ],
      "execution_count": 2,
      "outputs": [
        {
          "output_type": "stream",
          "name": "stdout",
          "text": [
            "--2021-11-06 00:54:41--  https://raw.githubusercontent.com/atorr5555/proyecto-1-cripto/main/hash_data.txt\n",
            "Resolving raw.githubusercontent.com (raw.githubusercontent.com)... 185.199.108.133, 185.199.109.133, 185.199.110.133, ...\n",
            "Connecting to raw.githubusercontent.com (raw.githubusercontent.com)|185.199.108.133|:443... connected.\n",
            "HTTP request sent, awaiting response... 200 OK\n",
            "Length: 9008 (8.8K) [text/plain]\n",
            "Saving to: ‘hash_data.txt’\n",
            "\n",
            "\rhash_data.txt         0%[                    ]       0  --.-KB/s               \rhash_data.txt       100%[===================>]   8.80K  --.-KB/s    in 0s      \n",
            "\n",
            "2021-11-06 00:54:41 (53.3 MB/s) - ‘hash_data.txt’ saved [9008/9008]\n",
            "\n",
            "--2021-11-06 00:54:41--  https://raw.githubusercontent.com/atorr5555/proyecto-1-cripto/main/plain_text.txt\n",
            "Resolving raw.githubusercontent.com (raw.githubusercontent.com)... 185.199.108.133, 185.199.109.133, 185.199.110.133, ...\n",
            "Connecting to raw.githubusercontent.com (raw.githubusercontent.com)|185.199.108.133|:443... connected.\n",
            "HTTP request sent, awaiting response... 200 OK\n",
            "Length: 217 [text/plain]\n",
            "Saving to: ‘plain_text.txt’\n",
            "\n",
            "plain_text.txt      100%[===================>]     217  --.-KB/s    in 0s      \n",
            "\n",
            "2021-11-06 00:54:42 (14.9 MB/s) - ‘plain_text.txt’ saved [217/217]\n",
            "\n"
          ]
        }
      ]
    },
    {
      "cell_type": "code",
      "metadata": {
        "id": "MuSUfutw72pG"
      },
      "source": [
        "import xlsxwriter\n",
        "import time\n",
        "from base64 import b64encode, b64decode\n",
        "from Crypto.Cipher import ChaCha20\n",
        "from Crypto.Cipher import AES\n",
        "from Crypto.Util.Padding import pad, unpad\n",
        "from Crypto.Random import get_random_bytes"
      ],
      "execution_count": 3,
      "outputs": []
    },
    {
      "cell_type": "markdown",
      "metadata": {
        "id": "y7mrLsAH7ktN"
      },
      "source": [
        "## Creación pruebas para *algoritmos*"
      ]
    },
    {
      "cell_type": "markdown",
      "metadata": {
        "id": "sFoTwd0V8YeM"
      },
      "source": [
        "### Chacha20\n",
        "\n",
        "Key Size 256 bits"
      ]
    },
    {
      "cell_type": "markdown",
      "metadata": {
        "id": "6aOX7rSvEj78"
      },
      "source": [
        "#### Encrypt"
      ]
    },
    {
      "cell_type": "code",
      "metadata": {
        "id": "xSi4rk4REl-F"
      },
      "source": [
        "def Chacha_20_test(plaintext : str):\n",
        "    inicio = 0\n",
        "    inicio = time.perf_counter()\n",
        "    key = get_random_bytes(32)\n",
        "    b= bytes(plaintext, 'utf-8')\n",
        "    #Creando el cifrador\n",
        "    chacha_cypher = ChaCha20.new(key = key)\n",
        "    #creando el objeto para cifrar\n",
        "    ciphertext = chacha_cypher.encrypt(b)\n",
        "    #haciendo la nonce y decodificando a utf-8\n",
        "    nonce = b64encode(chacha_cypher.nonce).decode('utf-8')\n",
        "    ct = b64encode(ciphertext).decode('utf-8')\n",
        "\n",
        "    final = 0\n",
        "    final = time.perf_counter()\n",
        "    res1 = AES_EBC_test(key, plaintext)\n",
        "    res2 = AES_CBC_test(key, plaintext)\n",
        "    res = final - inicio\n",
        "    return res, res1, res2"
      ],
      "execution_count": 4,
      "outputs": []
    },
    {
      "cell_type": "markdown",
      "metadata": {
        "id": "y9Hr3I96EhXP"
      },
      "source": [
        "#### Decrypt"
      ]
    },
    {
      "cell_type": "code",
      "metadata": {
        "id": "uBOGSBTH8X8S"
      },
      "source": [
        "def Chacha_20_test_dec(key : str, plaintext : str):\n",
        "    b= bytes(plaintext, 'utf-8')\n",
        "\n",
        "    #Creando el cifrador\n",
        "    chacha_cypher = ChaCha20.new(key = key)\n",
        "\n",
        "    #creando el objeto para cifrar\n",
        "    ciphertext = chacha_cypher.encrypt(b)\n",
        "\n",
        "    #haciendo la nonce y decodificando a utf-8\n",
        "    nonce = b64encode(chacha_cypher.nonce).decode('utf-8')\n",
        "    ct = b64encode(ciphertext).decode('utf-8')\n",
        "\n",
        "    inicio = 0\n",
        "    inicio = time.perf_counter()\n",
        "\n",
        "    chacha_decrypt = ChaCha20.new(key = key, nonce = b64decode(nonce))\n",
        "\n",
        "    pt = chacha_decrypt.decrypt(b64decode(ct))\n",
        "    final = 0\n",
        "    final = time.perf_counter()\n",
        "    res = final - inicio\n",
        "    res1 = AES_EBC_test_dec(key, plaintext)\n",
        "    res2 = AES_CBC_test_dec(key, plaintext)\n",
        "\n",
        "    return res, res1, res2"
      ],
      "execution_count": 5,
      "outputs": []
    },
    {
      "cell_type": "markdown",
      "metadata": {
        "id": "PoXbEYZ68oDd"
      },
      "source": [
        "### AES-EBC\n",
        "\n",
        "Key Size 256 bits"
      ]
    },
    {
      "cell_type": "markdown",
      "metadata": {
        "id": "liJUJs5hHdqi"
      },
      "source": [
        "#### Encrypt"
      ]
    },
    {
      "cell_type": "code",
      "metadata": {
        "id": "cDkSfI5jHf9x"
      },
      "source": [
        "def AES_EBC_test(key : str, plaintext : str):\n",
        "    inicio = 0\n",
        "    inicio = time.perf_counter()\n",
        "    b = bytes(plaintext, 'utf-8')\n",
        "    #creamos y ciframos el texto plano\n",
        "    cipher = AES.new(key, AES.MODE_ECB)\n",
        "    ciphertext = cipher.encrypt(pad(b, 32))\n",
        "    ct = b64encode(ciphertext).decode('utf-8')\n",
        "\n",
        "    final = 0\n",
        "    final = time.perf_counter()\n",
        "    res = final - inicio\n",
        "    return res"
      ],
      "execution_count": 6,
      "outputs": []
    },
    {
      "cell_type": "markdown",
      "metadata": {
        "id": "ggyfYB2VHbsO"
      },
      "source": [
        "#### Decrypt"
      ]
    },
    {
      "cell_type": "code",
      "metadata": {
        "id": "7eqelASn9pCC"
      },
      "source": [
        "def AES_EBC_test_dec(key : str, plaintext : str):\n",
        "\n",
        "    b = bytes(plaintext, 'utf-8')\n",
        "    #creamos y desciframos el texto cifrado\n",
        "    cipher = AES.new(key, AES.MODE_ECB)\n",
        "    ciphertext = cipher.encrypt(pad(b, AES.block_size))\n",
        "    ct = b64encode(ciphertext).decode('utf-8')\n",
        "\n",
        "    inicio = 0\n",
        "    inicio = time.perf_counter()\n",
        "\n",
        "    pt = unpad(cipher.decrypt(ciphertext), AES.block_size)\n",
        "    final = 0\n",
        "    final = time.perf_counter()\n",
        "    res = final - inicio\n",
        "    return res"
      ],
      "execution_count": 7,
      "outputs": []
    },
    {
      "cell_type": "markdown",
      "metadata": {
        "id": "OC3eOgrw8u0K"
      },
      "source": [
        "### AES-CBC\n",
        "\n",
        "Key Size 256 bits"
      ]
    },
    {
      "cell_type": "markdown",
      "metadata": {
        "id": "j-z_Zw62_204"
      },
      "source": [
        "#### Encrypt"
      ]
    },
    {
      "cell_type": "code",
      "metadata": {
        "id": "aH2pco2-_6nK"
      },
      "source": [
        "def AES_CBC_test(key : str, plaintext : str):\n",
        "    inicio = 0\n",
        "    inicio = time.perf_counter()\n",
        "    b = bytes(plaintext, 'utf-8')\n",
        "    #creamos y ciframos el texto plano\n",
        "    cipher = AES.new(key, AES.MODE_CBC)\n",
        "    ciphertext = cipher.encrypt(pad(b, 32))\n",
        "    ct = b64encode(ciphertext).decode('utf-8')\n",
        "\n",
        "    final = 0\n",
        "    final = time.perf_counter()\n",
        "    res = final - inicio\n",
        "    return res"
      ],
      "execution_count": 8,
      "outputs": []
    },
    {
      "cell_type": "markdown",
      "metadata": {
        "id": "Ub9Q0mcL_zQS"
      },
      "source": [
        "#### Decrypt"
      ]
    },
    {
      "cell_type": "code",
      "metadata": {
        "id": "vWfLdr4l9sN1"
      },
      "source": [
        "def AES_CBC_test_dec(key : str, plaintext : str):\n",
        "\n",
        "    b = bytes(plaintext, 'utf-8')\n",
        "    #creamos y desciframos el texto cifrado\n",
        "    cipher = AES.new(key, AES.MODE_CBC)\n",
        "    ciphertext = cipher.encrypt(pad(b, AES.block_size))\n",
        "    ct = b64encode(ciphertext).decode('utf-8')\n",
        "    iv = b64encode(cipher.iv).decode('utf-8')\n",
        "    aux = b64decode(ct)\n",
        "    inicio = 0\n",
        "    inicio = time.perf_counter()\n",
        "\n",
        "    aes_decrypt= AES.new(key, AES.MODE_CBC, b64decode(iv))\n",
        "    pt = unpad(aes_decrypt.decrypt(ciphertext), AES.block_size)\n",
        "\n",
        "    final = 0\n",
        "    final = time.perf_counter()\n",
        "    res = final - inicio\n",
        "    return res"
      ],
      "execution_count": 9,
      "outputs": []
    },
    {
      "cell_type": "markdown",
      "metadata": {
        "id": "e8ubzemZ8ygd"
      },
      "source": [
        "### SHA-2\n",
        "\n",
        "Hash size 384 bits"
      ]
    },
    {
      "cell_type": "code",
      "metadata": {
        "id": "9Cd1MxvvL9ft"
      },
      "source": [
        "from Crypto.Hash import SHA384\n",
        "\n",
        "def sha2_384_test(input):\n",
        "  byte_stream = bytes(input, 'utf-8')\n",
        "  h = SHA384.new()\n",
        "  inicio = time.perf_counter()\n",
        "  h.update(byte_stream)\n",
        "  final = time.perf_counter()\n",
        "  return (final - inicio, h.hexdigest())"
      ],
      "execution_count": 10,
      "outputs": []
    },
    {
      "cell_type": "markdown",
      "metadata": {
        "id": "vr92rdR181AG"
      },
      "source": [
        "### SHA-2\n",
        "\n",
        "Hash size 512 bits"
      ]
    },
    {
      "cell_type": "code",
      "metadata": {
        "id": "G8Dn3J_FP8xd"
      },
      "source": [
        "from Crypto.Hash import SHA512\n",
        "\n",
        "def sha2_512_test(input):\n",
        "  byte_stream = bytes(input, 'utf-8')\n",
        "  h = SHA512.new()\n",
        "  inicio = time.perf_counter()\n",
        "  h.update(byte_stream)\n",
        "  final = time.perf_counter()\n",
        "  return (final - inicio, h.hexdigest())"
      ],
      "execution_count": 11,
      "outputs": []
    },
    {
      "cell_type": "markdown",
      "metadata": {
        "id": "BahWwpx49L1a"
      },
      "source": [
        "### SHA-3\n",
        "\n",
        "Hash size 384 bits"
      ]
    },
    {
      "cell_type": "code",
      "metadata": {
        "id": "F_IYjIHtUbtC"
      },
      "source": [
        "from Crypto.Hash import SHA3_384\n",
        "\n",
        "def sha3_384_test(input):\n",
        "  byte_stream = bytes(input, 'utf-8')\n",
        "  h = SHA3_384.new()\n",
        "  inicio = time.perf_counter()\n",
        "  h.update(byte_stream)\n",
        "  final = time.perf_counter()\n",
        "  return (final - inicio, h.hexdigest())"
      ],
      "execution_count": 12,
      "outputs": []
    },
    {
      "cell_type": "markdown",
      "metadata": {
        "id": "BclTfH_B9Qtx"
      },
      "source": [
        "### SHA-3\n",
        "\n",
        "Hash size 512 bits"
      ]
    },
    {
      "cell_type": "code",
      "metadata": {
        "id": "L8ahFNH9U32M"
      },
      "source": [
        "from Crypto.Hash import SHA3_512\n",
        "\n",
        "def sha3_512_test(input):\n",
        "  byte_stream = bytes(input, 'utf-8')\n",
        "  h = SHA3_512.new()\n",
        "  inicio = time.perf_counter()\n",
        "  h.update(byte_stream)\n",
        "  final = time.perf_counter()\n",
        "  return (final - inicio, h.hexdigest())"
      ],
      "execution_count": 13,
      "outputs": []
    },
    {
      "cell_type": "markdown",
      "metadata": {
        "id": "uREqzS-c9U49"
      },
      "source": [
        "### RSA-OAEP\n",
        "\n",
        "1024 bits"
      ]
    },
    {
      "cell_type": "markdown",
      "metadata": {
        "id": "PXbYN3k4j2FI"
      },
      "source": [
        "Key Generation"
      ]
    },
    {
      "cell_type": "code",
      "metadata": {
        "id": "YSIOsCkcj5Na"
      },
      "source": [
        "from Crypto.PublicKey import RSA\n",
        "keyPair = RSA.generate(3072)\n",
        "pubKey = keyPair.publickey()\n",
        "pubKeyPEM = pubKey.exportKey()\n",
        "privKeyPEM = keyPair.exportKey()"
      ],
      "execution_count": 14,
      "outputs": []
    },
    {
      "cell_type": "code",
      "metadata": {
        "id": "4TDW5V18deVV"
      },
      "source": [
        "from Crypto.Cipher import PKCS1_OAEP\n",
        "import time\n",
        "from base64 import b64encode\n",
        "\n",
        "def RSA_OAEP_enc(plaintext):\n",
        "    inicio = 0\n",
        "    inicio = time.perf_counter()\n",
        "    msg = bytes(plaintext, 'utf-8')\n",
        "    encryptor = PKCS1_OAEP.new(pubKey)\n",
        "    ciphertext = encryptor.encrypt(msg)\n",
        "    texto_cifrado = b64encode(ciphertext).decode('utf-8')\n",
        "    final = 0\n",
        "    final = time.perf_counter()\n",
        "    print(final - inicio)\n",
        "    return (final - inicio, texto_cifrado)\n",
        "    \n",
        "def RSA_OAEP_dec(plaintext):\n",
        "  \n",
        "    msg = bytes(plaintext, 'utf-8')\n",
        "    encryptor = PKCS1_OAEP.new(pubKey)\n",
        "    ciphertext = encryptor.encrypt(msg)\n",
        "    texto_cifrado = b64encode(ciphertext).decode('utf-8')\n",
        "    inicio = time.perf_counter()\n",
        "    decryptor = PKCS1_OAEP.new(keyPair)\n",
        "    texto_claro = decryptor.decrypt(ciphertext)\n",
        "    final = 0\n",
        "    final = time.perf_counter()\n",
        "    print(final - inicio)\n",
        "    return (final - inicio, str(texto_claro), texto_cifrado)\n"
      ],
      "execution_count": 15,
      "outputs": []
    },
    {
      "cell_type": "markdown",
      "metadata": {
        "id": "8i03bHqLE6eN"
      },
      "source": [
        ""
      ]
    },
    {
      "cell_type": "markdown",
      "metadata": {
        "id": "G47MYv8c9aIW"
      },
      "source": [
        "### RSA-PSS\n",
        "\n",
        "1024 bits"
      ]
    },
    {
      "cell_type": "markdown",
      "metadata": {
        "id": "VyB5bovRma0l"
      },
      "source": [
        "Key Generation"
      ]
    },
    {
      "cell_type": "code",
      "metadata": {
        "id": "nMAxXXiFmdLr"
      },
      "source": [
        "from Crypto.PublicKey import RSA\n",
        "keyPair = RSA.generate(3072)\n",
        "pubKey = keyPair.publickey()\n",
        "pubKeyPEM = pubKey.exportKey()\n",
        "privKeyPEM = keyPair.exportKey()"
      ],
      "execution_count": 16,
      "outputs": []
    },
    {
      "cell_type": "code",
      "metadata": {
        "id": "X2S-6M-zfbdG"
      },
      "source": [
        "from Crypto.Signature import PKCS1_PSS\n",
        "from Crypto.Hash import SHA256\n",
        "def RSA_PSS_sign(plaintext):\n",
        "    inicio = 0\n",
        "    inicio = time.perf_counter()\n",
        "    msg = bytes(plaintext, 'utf-8')\n",
        "    h = SHA256.new(msg)\n",
        "    signature = PKCS1_PSS.new(keyPair).sign(h)\n",
        "    final = time.perf_counter()\n",
        "    return (final - inicio, signature)\n",
        "\n",
        "def RSA_PSS_verif(plaintext):\n",
        "    msg = bytes(plaintext, 'utf-8')\n",
        "    h = SHA256.new(msg)\n",
        "    inicio = 0\n",
        "    inicio = time.perf_counter()\n",
        "    signature = PKCS1_PSS.new(keyPair).sign(h)\n",
        "    verifier = PKCS1_PSS.new(pubKey)\n",
        "    try:\n",
        "        verifier.verify(h, signature)\n",
        "        print (\"The signature is authentic\")\n",
        "    except (ValueError, TypeError):\n",
        "        print (\"The signature is not authentic\")\n",
        "    final = time.perf_counter()\n",
        "    return (final - inicio, verifier)"
      ],
      "execution_count": 17,
      "outputs": []
    },
    {
      "cell_type": "markdown",
      "metadata": {
        "id": "dTp4Lpkd9euk"
      },
      "source": [
        "### ECDSA Prime Field\n",
        "\n",
        "ECDSA, 521 Bits (Prime Field)\n",
        "\n",
        "\n"
      ]
    },
    {
      "cell_type": "code",
      "metadata": {
        "id": "oIHWF1ceE7Qd"
      },
      "source": [
        "import ecdsa\n",
        "import time\n",
        "import pandas as pd\n",
        "from base64 import b64encode\n",
        "\n",
        "def ECDSA_PrimeField_Sign_and_verify(linea : str):\n",
        "    inicio = 0\n",
        "    inicio = time.perf_counter()\n",
        "\n",
        "    byte_linea= bytes(linea,encoding='utf-8')\n",
        "    sk = ecdsa.SigningKey.generate()\n",
        "    vk = sk.verifying_key\n",
        "    signature = sk.sign(byte_linea)\n",
        "\n",
        "    final = 0\n",
        "    final = time.perf_counter()\n",
        "    res = final - inicio\n",
        "\n",
        "    inicio1 = 0\n",
        "    inicio1 = time.perf_counter()\n",
        "\n",
        "    assert vk.verify(signature, byte_linea)\n",
        "\n",
        "    final1 = 0\n",
        "    final1 = time.perf_counter()\n",
        "    res2 = final1-inicio1\n",
        "\n",
        "    return res, res2\n"
      ],
      "execution_count": 18,
      "outputs": []
    },
    {
      "cell_type": "markdown",
      "metadata": {
        "id": "IkTGRVZP9h68"
      },
      "source": [
        "### ECDSA Binary Field\n",
        "\n",
        "ECDSA, 571 Bits (Binary Field, Koblitz Curve)"
      ]
    },
    {
      "cell_type": "code",
      "metadata": {
        "id": "SetG0TYbc-8t"
      },
      "source": [
        "import time\n",
        "from cryptography.hazmat.primitives import hashes\n",
        "from cryptography.hazmat.primitives.asymmetric import ec\n",
        "\n",
        "def ECDSA_BinaryField_Sign_and_Verify(linea : str):\n",
        "    inicio = 0\n",
        "    inicio = time.perf_counter()\n",
        "\n",
        "    byte_linea= bytes(linea,encoding='utf-16')\n",
        "    private_key= ec.generate_private_key(ec.SECT571K1())\n",
        "\n",
        "    sk = ecdsa.SigningKey.generate()\n",
        "    vk = sk.verifying_key\n",
        "    signature = private_key.sign(byte_linea, ec.ECDSA(hashes.SHA256()))\n",
        "\n",
        "    final = 0\n",
        "    final = time.perf_counter()\n",
        "    res = final - inicio\n",
        "\n",
        "    inicio1 = 0\n",
        "    inicio1 = time.perf_counter()\n",
        "\n",
        "    public_key = private_key.public_key()\n",
        "    public_key.verify(signature, byte_linea, ec.ECDSA(hashes.SHA256()))\n",
        "    final1 = 0\n",
        "    final1 = time.perf_counter()\n",
        "    res1 = final1 - inicio1\n",
        "    return res, res1"
      ],
      "execution_count": 19,
      "outputs": []
    },
    {
      "cell_type": "markdown",
      "metadata": {
        "id": "_azKK_fd7p_h"
      },
      "source": [
        "## Resultados"
      ]
    },
    {
      "cell_type": "markdown",
      "metadata": {
        "id": "wdHg1oEnVG2p"
      },
      "source": [
        "### Tablas utilzando Pandas"
      ]
    },
    {
      "cell_type": "code",
      "metadata": {
        "id": "x8Tg8P1ecPtM"
      },
      "source": [
        "import pandas as pd"
      ],
      "execution_count": 20,
      "outputs": []
    },
    {
      "cell_type": "markdown",
      "metadata": {
        "id": "51VGwj7qxeQb"
      },
      "source": [
        "Symmetric y Asymmetric"
      ]
    },
    {
      "cell_type": "code",
      "metadata": {
        "colab": {
          "base_uri": "https://localhost:8080/"
        },
        "id": "8_0YGFZaxfml",
        "outputId": "c7ccf137-cb26-4c5f-c40f-cd3bdba75d69"
      },
      "source": [
        "f = open('plain_text.txt')\n",
        "vectores = []\n",
        "for linea in f:\n",
        "    vectores.append(linea.replace('\\n', ''))\n",
        "vectores"
      ],
      "execution_count": 21,
      "outputs": [
        {
          "output_type": "execute_result",
          "data": {
            "text/plain": [
              "['Attack at dawn',\n",
              " 'Segunda prueba jajaja',\n",
              " 'Texto mas largo que la segunda prueba',\n",
              " \"You're all going down\",\n",
              " 'La Criptografia es muy interesante',\n",
              " 'Este es otro vector de prueba para cifrar',\n",
              " 'Texto plano',\n",
              " 'Cadena de media longitud']"
            ]
          },
          "metadata": {},
          "execution_count": 21
        }
      ]
    },
    {
      "cell_type": "markdown",
      "metadata": {
        "id": "lB1nhPRJxl-y"
      },
      "source": [
        "Hash"
      ]
    },
    {
      "cell_type": "code",
      "metadata": {
        "colab": {
          "base_uri": "https://localhost:8080/"
        },
        "id": "qiEND1kmcYCK",
        "outputId": "2344a1c7-b4a8-4a00-dba5-a2d31dcd6049"
      },
      "source": [
        "f = open('hash_data.txt')\n",
        "vectors = []\n",
        "for line in f:\n",
        "  vectors.append(line.replace('\\n', ''))\n",
        "vectors"
      ],
      "execution_count": 22,
      "outputs": [
        {
          "output_type": "execute_result",
          "data": {
            "text/plain": [
              "['f714a27cd2d1bc754f5e4972ab940d366a754e029b6536655d977956a2c53880332424ddf597e6866a22bfca7aa26b7d74bc4c925014c4ed37bfe37245fa42628d1c2ee75dc909edc469ee3452d894',\n",
              " '5fe35923b4e0af7dd24971812a58425519850a506dfa9b0d254795be785786c319a2567cbaa5e35bcf8fe83d943e23fa5169b73adc1fcf8b607084b15e6a013df147e46256e4e803ab75c110f77848136be7d806e8b2f868c16c3a90c14463407038cb7d9285079ef162c6a45cedf9c9f066375c969b5fcbcda37f02aacff4f31cded3767570885426bebd9eca877e44674e9ae2f0c24cdd0e7e1aaf1ff2fe7f80a1c4f5078eb34cd4f06fa94a2d1eab5806ca43fd0f06c60b63d5402b95c70c21ea65a151c5cfaf8262a46be3c722264b',\n",
              " 'ab6b92daf83275cb9c1b76cfb59fbcc8ac53188e0b6980918e7ac0c07c836ca9372d19e11251cca664bbb3c3db2e13b412a9820b65e95612042f5db24643cf9340b9808597735a1f92670ba573a2fb2f088d81087d70565574344af7576d35b2ed98318e2ca0067d4fa8e63f28045b83b6887d4ffa0668a10712ed5759',\n",
              " '035adcb639e5f28bb5c88658f45c1ce0be16e7dafe083b98d0ab45e8dcdbfa38e3234dfd973ba555b0cf8eea3c82ae1a3633fc565b7f2cc839876d3989f35731be371f60de140e3c916231ec780e5165bf5f25d3f67dc73a1c33655dfdf439dfbf1cbba8b779158a810ad7244f06ec078120cd18760af436a238941ce1e687880b5c879dc971a285a74ee85c6a746749a30159ee842e9b03f31d613dddd22975cd7fed06bd049d772cb6cc5a705faa734e87321dc8f2a4ea366a368a98bf06ee2b0b54ac3a3aeea637caebe70ad09ccda93cc06de95df73394a87ac9bbb5083a4d8a2458e91c7d5bf113aecae0ce279fdda76ba690787d26345e94c3edbc16a35c83c4d071b132dd81187bcd9961323011509c8f644a1c0a3f14ee40d7dd186f807f9edc7c02f6761061bbb6dd91a6c96ec0b9f10edbbd29dc52',\n",
              " '8c569727f1d4548f1c66a5c830346259612d10c5fef90518ae2fcdbffac9cd9c0bd5265ab56ddcfeb5e838bf37526a189c1a731b790b4208e37d1d1eeacd43b1630ad07debf1e03a281cf7715276a18df2f25535ea7d9fd9b6317f8bf1cb0c111b5f5c38994aa86bfd69ac8388884de1ed1d7eba583764b3afb1b8ae18ab6ee3bb3a9432c95f7cb7bd361da0e270b73b1503b653cc20d9bd5766932e6655b250cc053e148218a449efed136e661627c4f10dc5a84d22462035b8d7b4e4b11f7fd5272385cd5d67471bf556951e63e4a409a17260e324f203d2104be798a8ff985e080b2eb1160fdacab6aebe123d3802e5298624960f268fb4d4b9708c2098c5ef10beb6362be2298298e391498e69060e0bca9b6fc92aec656ee7f6c802342c11a703c76484295dce03bcb5cb3cc0da0bb1036e753b46416d449d22523719f54b35a306440a2b9d335f03d3a03085a36481fc44b14dc2b652c0a59c34a68f492622671ddda332123b147e92d153008ca2e57cc629e8e5759e48c60b7636e05029d614b4373884e36d8af69b648c79ba4c444a9ce7f2f8a3d846c7171ed15231dcba75725bb26a395129329564c23758ea052f6df355436b89217169365e2f15c734510050f72c3c705afc29d6df838c0492f3e153f70ef338418ca9c5c4bd2373ad6f051ef1121351831affc4caa57e23525ea111c2a1636d0ee07fd4ed4584678e982ace8664e77d0e55be356be558cead3755359c43e4b1f034916ac00e5f2b3d941767a069df7a61750e32aa8a3f8e0b48a5c56f3e9e8a4f518a8f2562dd48242b73f1266a24d2e64299c26fde5dead45737cb22d8b8839300104b04872645a925e77500afdd0c038404eda227da6a702db64e',\n",
              " 'eeaa4e8e343caa827d348cba7d83f4c6cf69f00b968a6174654501655c41a5f19448c04cbe59298306f81e6a3ec988d6385d800d734c137bfa8442a78ae04d65f3fd324cc049706a1a5c1037ea8ce6c83ebb1545ee74d19d7f3769784710846ed26eaa76853307a181086c08cbf39702a92bb49b4f2b2442ba057cc2ddf9d174fb4633b25440778e03a33ac4272722ee415467f7dd9892d27597856c92c2bcdf342bd2e87497479b68d58055474f0ff3cddf3541e1e4a5b576948b5eaf94cd1746c691002e62ff2f774848a27394e77817732761a336e55486a597807b968d84f9be77e2cac628b1f9a19993f21e31e7e5b943406bb7d9156c72b0ba40f1838e14bb8c7790ed498bb78b7c100e1475a7005993c4818e0961f2a2def444cc389e6167d9a5c7ffea2476acf7010d9e3c2030fa1fd62ce5fda1dedd2916d150321aa6676555b92393e401ac154e38e60cba3c44ed5fb6e13e3bf9cd9a082da4fb6cac663970ac82cd331f34dbe0d71170ddeee1084565ac53990b1838b2a0f21bfa3b0a5bdce9441f7997ec539d324aedf10c767572826ec421dc660cfc745f182e1bfbd583b890121e327b846e90b70d5e5fae3dcc544e1a3d33601ccfef157c6f13e2af4b608e2d8ab88a763b3b80578caf2e693d2575dc54d9ad72115b3cce24ec67ef1e2b68f826f1c032ed79ce53e4c4a101ac3b0b92cd97f616acfefb97b76e319fe35f43fb58a4c6bf6a93c98acc65ad0b00e037c41233e30e86217b5e8f61e9c682454abf899b43259cd19883ad5cfa91235921fb8a751b64890be4ab148d366de225a2cb229ce06d6a7a64c6f06f319afcf1f2be9d2747209c065d07aebac19bed4776a78970459ebbd854dcfb67fa2f73efd296b30f0e48a6580ef8c5af32588af2ecdc28df19c07931914c380bfc57709ae80a34f719e6914a2008c13530aca1702cf166b004dc8bce429e0d25e01adb3c5da288a510014424bbbf0a1463a01b075f6eaaadb0f8d9f7905be47b4d809c1b58e618e199a2a72e06',\n",
              " '43025615521d66fe8ec3a3f8ccc5abfab870a462c6b3d1396b8462b98c7f910c37d0ea579154eaf70ffbcc0be971a032ccfd9d96d0a9b829a9a3762e21e3fefcc60e72fedf9a7fffa53433a4b05e0f3ab05d5eb25d52c5eab1a71a2f54ac79ff5882951326394d9db83580ce09d6219bca588ec157f71d06e957f8c20d242c9f55f5fc9d4d777b59b0c75a8edc1ffedc84b5d5c8a5e0eb05bb7db8f234913d6325304fa43c9d32bbf6b269ee1182cd85453eddd12f55556d8edf02c4b13cd4d330f83531dbf2994cf0be56f59147b71f74b94be3dd9e83c8c9477c426c6d1a78de18564a12c0d99307b2c9ab42b6e3317befca0797029e9dd67bd1734e6c36d998565bfac94d1918a35869190d177943c1a8004445cace751c43a75f3d80517fc47cec46e8e382642d76df46dab1a3ddaeab95a2cf3f3ad70369a70f22f293f0cc50b03857c83cfe0bd5d23b92cd8788aac232291da60b4bf3b3788ae60a23b6169b50d7fe446e6ea73debfe1bb34dcb1db37fe2174a685954ebc2d86f102a590c24732bc5a1403d6876d2995fab1e2f6f4723d4a6727a8a8ed72f02a74ccf5f14b5c23d9525dbf2b5472e1345fd223b0846c707b06569650940650f75063b529814e514541a6715f879a875b4f08077517812841e6c5c732eed0c07c08595b9ff0a83b8ecc60b2f98d4e7c696cd616bb0a5ad52d9cf7b3a63a8cdf37212',\n",
              " '09ab78274714140e9e25d81ca9a1cb475945094f39fb2296f651bd311e29813f28b23579b597250b1576c8a30d93a1c7d7ce636b6bd258c3fd900356c7ec055408b53d294ddb3352efdcb76fdd80c59a9bc6acf88b1e6f8d6cd86c5520dd3b90b29dd95d9748068a3441ebaba1d00069ad172d1d2247309e4a133e56b165ed9c2d50513e1c47655ced8cad7de2ea1adc13a72e03b7b5609b9f28c28303ede11f81b8edf3633e1a7021a5450d2638db9ad760f7d1d2cfca2f73ff40029ddbe0c2b7bcf5a4f496eb6dd874fb84f8210b4c0128cfb0fbff3500cf8000fb0798b22dd643b07b58b8a1fc1ae0170add0d719997e900c8bbad68b6ba934997ca8d1f07e637679d160a04c4f0d3e0c65f64d62aa38ad040993f2cfa3d2065fd6d21eff8f07f6235b6f6db6e61359fe1058f02a62cf388411e1e49745f0f9a5778bbe9aafa03e969c1e3f0a176ec9d8357f4bdb63b0c6ff2d0b287cb284831ca74c5d7c20fab4461be39090636e11fd2defccf02d7bdcf7c3a63aea7a0b37180e8a67feb345fba46355fef44a9fc70f9210fff3108eeee06e19a85b2d039a4a15cc6a9cb73079440aebf6a04d726d71ea99616ecd68716b94fbdd591bfc01054588d1f0ad38b1b76b2c041eec9459b6afcf7ddda4a708dbd0b3666ef7531ffc26563a8515dd39411c8ca3ea986420504a49c19a46b919b399d6b0072fb75b7130ab00b4817c74a38794527de16065d1429eb95f142d28a558ec66bc25872816ed0dc11960b5084144c99c5348278ebc4114e186ad51ca03b64ad6e889412a4fb3e4f82e3415489cdc92fe054d17ff63ae62c69b72e552710aa8ad36cb83c6ae4dc7126d9bfbca28a786d40e50b05c89e2fed517f556765ffe5c46015cbd8194e32abc41e8f711773e2bcac9039f1a71975f8986a5038a32d9fc3de2cd5cdfa63c963265ab95a30b28e85edfd612bdcd33fb7062229b228c55fef1458df05554b28021236435e356c042ecbd38e9aaef31591624ce8bc3eedaeb0cc42ef67722ed7f1515937676dcccd210ebbc52867a17fee7693933d2bcd136ecc9210db98335f97ab6d9c5c21f770c47e5c10bc4e070636089c341f388f1691ddef47491082475be7177b2499187581e35f763eaa4a31d2e112d249ad583f81c7019e99234417a7cf01dba91d5565bf046b0097c4958928c99b76a3d25317a652711cb316a158e229d3c4d2f5d6c7e5aa29b4ade4',\n",
              " 'd43522210236c67e4981bf3f441b941cd52c5732b94ad76160fa16f3fc74fe7ed9a74f0bec7ddc77ae60f71a2bfd2aa7554828539fc0023ac7f49efef34666b100ef3df51743b76181368927bc203ef4cebd2c18d978a7e7f0e9745f299c800bf314d226aa0fbf04690c5dae200b3acde6944dc990fa2c3182e1805ec5feb6535a1ef8e8ce6a5c280fe95bf77e4684f845d471adebcffbe026e5aa42f0f46f53dc169681abdbf6941ad56b49ff5a863d9485820d137e7abc83fbda55d10714d12203943a68eaf51133d975eecbcea6667baf67312f8f138c422ef8dd91be0b96d4edd95b2e1fc16702fb612c092a4e39a15b0861688b2d1a0a83ec2357a2bd6a99dc4f2c2403c25e2e45174ce1f7e580af914de5e6f92f2c84049e6f4c3a921419d9ddf5731d61bd60bf7f957cbbd3014c571e04d061838b57b8f709970ef35efdeb6bfd42f5044e3f70825102017f8521b763084e4b90ff2ca7dd3862a6460eed1be28dba1415d7746006c69b4e53d3d6b804378a40be50abda3945d28bf4ed907028ed0301fa21a697f43e6d2cb6b51262e9daa9c775457b58f478114466c38ff2266544441df47e1e35ffa32210f17dbefb38d6691da74529f4194759035891a9c43da566e418a4fcaf5163b9ca50c0d3209b37ad1e3eb05623709b5232733f9eebbc4feeb954bf394c7ed5774a9a83aa4149f41be1d265e668c536b85dde41d8812b6a64037177def3cd23e7f9976d49478b363bcc2b0be1aa5f4013eb5f3e5f6fd21d51293876f18c85728e3f0e27ba18a9259648104b50d387e0e944bfdf3c9ef9913c956e617dfeefedf685c959059eebe8b3be4bcd3aca853ec4d0c5cb76f5e8eeadaedee3873353b9a6318eaa30bf99a81a94a238a777a1832bf63baa155be65b2cdc4fa21912f90126ad26c24565fa8c5434de359fc223d7a721e72622ba3d00428788463a8328ebff5f594a4b7757bde804c76b2b935261bfb693e5a3f9330676175278f36e299fb8b1eeea4bddf8625e6e248352d2774afb1e058fa300119551f475e04bbb4546d90aaf494c7f25a43fd8bf241d67dab9e3c106cd27b71fd45a87b9254a53c108ead16210564526ab12ac5ef7923ac3d700075d473906a4ec1936e6eff81ce80c7470d0e67117429e5f51caa3bc347accd959d4a4e0d5ea05166ac3e85eff017bff4ec174a6ddc3a5af2fcbd1a03b46bff61d318c250c3745da8c19b683e4537c11d3fd62fc7fefea88ae2829483871d8e0bd3da90e93d4d7ec02b0016fb4273834674b577ce50f927536ab52bb1441411e9fc0a0a65209e1d43650722b55c5d7ef7274fb2df76ac8fb2f1af501b5ff1f382d821cf2311d8c1b8ec1b0beb17580ca5c41f7179e4ab2a4013eb92305f29db7cd4ac3fc195aff4874ca6430af7f5b4e8d77f342c0f578f714df4728eb64e0']"
            ]
          },
          "metadata": {},
          "execution_count": 22
        }
      ]
    },
    {
      "cell_type": "markdown",
      "metadata": {
        "id": "_axe7FHGel0P"
      },
      "source": [
        "#### Hashing"
      ]
    },
    {
      "cell_type": "code",
      "metadata": {
        "id": "GB5aN8M3AU6f"
      },
      "source": [
        "def genera_prueba(vector, index, length):\n",
        "  list_tests = []\n",
        "  for i in range(100):\n",
        "    dict_round = {}\n",
        "    dict_round['Vector Number'] = index\n",
        "    dict_round['Test Vectors'] = vector\n",
        "    dict_round['Length of vector in Bytes'] = length\n",
        "    dict_round['SHA-2 384'] = sha2_384_test(vector)[0]\n",
        "    dict_round['SHA-2 512'] = sha2_512_test(vector)[0]\n",
        "    dict_round['SHA-3 384'] = sha3_384_test(vector)[0]\n",
        "    dict_round['SHA-3 512'] = sha3_512_test(vector)[0]\n",
        "    list_tests.append(dict_round)\n",
        "  return list_tests"
      ],
      "execution_count": 23,
      "outputs": []
    },
    {
      "cell_type": "code",
      "metadata": {
        "id": "ndmWySiYdPSz"
      },
      "source": [
        "lista = []\n",
        "i = 0\n",
        "for vector in vectors:\n",
        "  lista += genera_prueba(vector, i, len(vector.encode('utf-8')))\n",
        "  i += 1"
      ],
      "execution_count": 24,
      "outputs": []
    },
    {
      "cell_type": "code",
      "metadata": {
        "colab": {
          "base_uri": "https://localhost:8080/",
          "height": 419
        },
        "id": "lekqJUw5eF-p",
        "outputId": "83ffee8a-c382-4a5c-9741-4854b1aa51f9"
      },
      "source": [
        "pd.set_option(\"display.precision\", 12)\n",
        "hash_data = pd.DataFrame(lista)\n",
        "hash_data = hash_data.sort_values(by=['Length of vector in Bytes'])\n",
        "hash_data"
      ],
      "execution_count": 25,
      "outputs": [
        {
          "output_type": "execute_result",
          "data": {
            "text/html": [
              "<div>\n",
              "<style scoped>\n",
              "    .dataframe tbody tr th:only-of-type {\n",
              "        vertical-align: middle;\n",
              "    }\n",
              "\n",
              "    .dataframe tbody tr th {\n",
              "        vertical-align: top;\n",
              "    }\n",
              "\n",
              "    .dataframe thead th {\n",
              "        text-align: right;\n",
              "    }\n",
              "</style>\n",
              "<table border=\"1\" class=\"dataframe\">\n",
              "  <thead>\n",
              "    <tr style=\"text-align: right;\">\n",
              "      <th></th>\n",
              "      <th>Vector Number</th>\n",
              "      <th>Test Vectors</th>\n",
              "      <th>Length of vector in Bytes</th>\n",
              "      <th>SHA-2 384</th>\n",
              "      <th>SHA-2 512</th>\n",
              "      <th>SHA-3 384</th>\n",
              "      <th>SHA-3 512</th>\n",
              "    </tr>\n",
              "  </thead>\n",
              "  <tbody>\n",
              "    <tr>\n",
              "      <th>0</th>\n",
              "      <td>0</td>\n",
              "      <td>f714a27cd2d1bc754f5e4972ab940d366a754e029b6536...</td>\n",
              "      <td>158</td>\n",
              "      <td>0.000134887</td>\n",
              "      <td>0.000043391</td>\n",
              "      <td>0.000037495</td>\n",
              "      <td>0.000008787</td>\n",
              "    </tr>\n",
              "    <tr>\n",
              "      <th>72</th>\n",
              "      <td>0</td>\n",
              "      <td>f714a27cd2d1bc754f5e4972ab940d366a754e029b6536...</td>\n",
              "      <td>158</td>\n",
              "      <td>0.000003377</td>\n",
              "      <td>0.000003857</td>\n",
              "      <td>0.000002666</td>\n",
              "      <td>0.000004480</td>\n",
              "    </tr>\n",
              "    <tr>\n",
              "      <th>71</th>\n",
              "      <td>0</td>\n",
              "      <td>f714a27cd2d1bc754f5e4972ab940d366a754e029b6536...</td>\n",
              "      <td>158</td>\n",
              "      <td>0.000001875</td>\n",
              "      <td>0.000001845</td>\n",
              "      <td>0.000002177</td>\n",
              "      <td>0.000004970</td>\n",
              "    </tr>\n",
              "    <tr>\n",
              "      <th>70</th>\n",
              "      <td>0</td>\n",
              "      <td>f714a27cd2d1bc754f5e4972ab940d366a754e029b6536...</td>\n",
              "      <td>158</td>\n",
              "      <td>0.000001900</td>\n",
              "      <td>0.000001830</td>\n",
              "      <td>0.000002220</td>\n",
              "      <td>0.000002713</td>\n",
              "    </tr>\n",
              "    <tr>\n",
              "      <th>69</th>\n",
              "      <td>0</td>\n",
              "      <td>f714a27cd2d1bc754f5e4972ab940d366a754e029b6536...</td>\n",
              "      <td>158</td>\n",
              "      <td>0.000001966</td>\n",
              "      <td>0.000001928</td>\n",
              "      <td>0.000002156</td>\n",
              "      <td>0.000002721</td>\n",
              "    </tr>\n",
              "    <tr>\n",
              "      <th>...</th>\n",
              "      <td>...</td>\n",
              "      <td>...</td>\n",
              "      <td>...</td>\n",
              "      <td>...</td>\n",
              "      <td>...</td>\n",
              "      <td>...</td>\n",
              "      <td>...</td>\n",
              "    </tr>\n",
              "    <tr>\n",
              "      <th>827</th>\n",
              "      <td>8</td>\n",
              "      <td>d43522210236c67e4981bf3f441b941cd52c5732b94ad7...</td>\n",
              "      <td>2042</td>\n",
              "      <td>0.000007576</td>\n",
              "      <td>0.000007490</td>\n",
              "      <td>0.000012051</td>\n",
              "      <td>0.000033871</td>\n",
              "    </tr>\n",
              "    <tr>\n",
              "      <th>826</th>\n",
              "      <td>8</td>\n",
              "      <td>d43522210236c67e4981bf3f441b941cd52c5732b94ad7...</td>\n",
              "      <td>2042</td>\n",
              "      <td>0.000007597</td>\n",
              "      <td>0.000007515</td>\n",
              "      <td>0.000012102</td>\n",
              "      <td>0.000021011</td>\n",
              "    </tr>\n",
              "    <tr>\n",
              "      <th>824</th>\n",
              "      <td>8</td>\n",
              "      <td>d43522210236c67e4981bf3f441b941cd52c5732b94ad7...</td>\n",
              "      <td>2042</td>\n",
              "      <td>0.000007613</td>\n",
              "      <td>0.000007526</td>\n",
              "      <td>0.000012089</td>\n",
              "      <td>0.000021644</td>\n",
              "    </tr>\n",
              "    <tr>\n",
              "      <th>835</th>\n",
              "      <td>8</td>\n",
              "      <td>d43522210236c67e4981bf3f441b941cd52c5732b94ad7...</td>\n",
              "      <td>2042</td>\n",
              "      <td>0.000007580</td>\n",
              "      <td>0.000007537</td>\n",
              "      <td>0.000012874</td>\n",
              "      <td>0.000018029</td>\n",
              "    </tr>\n",
              "    <tr>\n",
              "      <th>899</th>\n",
              "      <td>8</td>\n",
              "      <td>d43522210236c67e4981bf3f441b941cd52c5732b94ad7...</td>\n",
              "      <td>2042</td>\n",
              "      <td>0.000009092</td>\n",
              "      <td>0.000008866</td>\n",
              "      <td>0.000014335</td>\n",
              "      <td>0.000020043</td>\n",
              "    </tr>\n",
              "  </tbody>\n",
              "</table>\n",
              "<p>900 rows × 7 columns</p>\n",
              "</div>"
            ],
            "text/plain": [
              "     Vector Number  ...    SHA-3 512\n",
              "0                0  ...  0.000008787\n",
              "72               0  ...  0.000004480\n",
              "71               0  ...  0.000004970\n",
              "70               0  ...  0.000002713\n",
              "69               0  ...  0.000002721\n",
              "..             ...  ...          ...\n",
              "827              8  ...  0.000033871\n",
              "826              8  ...  0.000021011\n",
              "824              8  ...  0.000021644\n",
              "835              8  ...  0.000018029\n",
              "899              8  ...  0.000020043\n",
              "\n",
              "[900 rows x 7 columns]"
            ]
          },
          "metadata": {},
          "execution_count": 25
        }
      ]
    },
    {
      "cell_type": "code",
      "metadata": {
        "colab": {
          "base_uri": "https://localhost:8080/",
          "height": 359
        },
        "id": "8H9lEQbhGubQ",
        "outputId": "d122231c-01be-4643-9088-ad522ed6683b"
      },
      "source": [
        "hash_data_mean = hash_data.groupby('Length of vector in Bytes').mean()\n",
        "hash_data_mean.set_index('Vector Number')\n",
        "hash_data_mean"
      ],
      "execution_count": 26,
      "outputs": [
        {
          "output_type": "execute_result",
          "data": {
            "text/html": [
              "<div>\n",
              "<style scoped>\n",
              "    .dataframe tbody tr th:only-of-type {\n",
              "        vertical-align: middle;\n",
              "    }\n",
              "\n",
              "    .dataframe tbody tr th {\n",
              "        vertical-align: top;\n",
              "    }\n",
              "\n",
              "    .dataframe thead th {\n",
              "        text-align: right;\n",
              "    }\n",
              "</style>\n",
              "<table border=\"1\" class=\"dataframe\">\n",
              "  <thead>\n",
              "    <tr style=\"text-align: right;\">\n",
              "      <th></th>\n",
              "      <th>Vector Number</th>\n",
              "      <th>SHA-2 384</th>\n",
              "      <th>SHA-2 512</th>\n",
              "      <th>SHA-3 384</th>\n",
              "      <th>SHA-3 512</th>\n",
              "    </tr>\n",
              "    <tr>\n",
              "      <th>Length of vector in Bytes</th>\n",
              "      <th></th>\n",
              "      <th></th>\n",
              "      <th></th>\n",
              "      <th></th>\n",
              "      <th></th>\n",
              "    </tr>\n",
              "  </thead>\n",
              "  <tbody>\n",
              "    <tr>\n",
              "      <th>158</th>\n",
              "      <td>0</td>\n",
              "      <td>0.00000487352</td>\n",
              "      <td>0.00000361815</td>\n",
              "      <td>0.00000441537</td>\n",
              "      <td>0.00000462930</td>\n",
              "    </tr>\n",
              "    <tr>\n",
              "      <th>250</th>\n",
              "      <td>2</td>\n",
              "      <td>0.00000219503</td>\n",
              "      <td>0.00000210110</td>\n",
              "      <td>0.00000303765</td>\n",
              "      <td>0.00000364874</td>\n",
              "    </tr>\n",
              "    <tr>\n",
              "      <th>418</th>\n",
              "      <td>1</td>\n",
              "      <td>0.00000294266</td>\n",
              "      <td>0.00000321468</td>\n",
              "      <td>0.00000414429</td>\n",
              "      <td>0.00000463081</td>\n",
              "    </tr>\n",
              "    <tr>\n",
              "      <th>628</th>\n",
              "      <td>3</td>\n",
              "      <td>0.00000326226</td>\n",
              "      <td>0.00000325310</td>\n",
              "      <td>0.00000513832</td>\n",
              "      <td>0.00000608257</td>\n",
              "    </tr>\n",
              "    <tr>\n",
              "      <th>1020</th>\n",
              "      <td>6</td>\n",
              "      <td>0.00000488903</td>\n",
              "      <td>0.00000464045</td>\n",
              "      <td>0.00000691188</td>\n",
              "      <td>0.00000998357</td>\n",
              "    </tr>\n",
              "    <tr>\n",
              "      <th>1258</th>\n",
              "      <td>4</td>\n",
              "      <td>0.00000561377</td>\n",
              "      <td>0.00000614053</td>\n",
              "      <td>0.00000880625</td>\n",
              "      <td>0.00001201680</td>\n",
              "    </tr>\n",
              "    <tr>\n",
              "      <th>1468</th>\n",
              "      <td>5</td>\n",
              "      <td>0.00000657197</td>\n",
              "      <td>0.00000654071</td>\n",
              "      <td>0.00001043080</td>\n",
              "      <td>0.00001379405</td>\n",
              "    </tr>\n",
              "    <tr>\n",
              "      <th>1750</th>\n",
              "      <td>7</td>\n",
              "      <td>0.00000734463</td>\n",
              "      <td>0.00000737217</td>\n",
              "      <td>0.00001141372</td>\n",
              "      <td>0.00001576285</td>\n",
              "    </tr>\n",
              "    <tr>\n",
              "      <th>2042</th>\n",
              "      <td>8</td>\n",
              "      <td>0.00000855141</td>\n",
              "      <td>0.00000839465</td>\n",
              "      <td>0.00001344431</td>\n",
              "      <td>0.00001881266</td>\n",
              "    </tr>\n",
              "  </tbody>\n",
              "</table>\n",
              "</div>"
            ],
            "text/plain": [
              "                           Vector Number  ...      SHA-3 512\n",
              "Length of vector in Bytes                 ...               \n",
              "158                                    0  ...  0.00000462930\n",
              "250                                    2  ...  0.00000364874\n",
              "418                                    1  ...  0.00000463081\n",
              "628                                    3  ...  0.00000608257\n",
              "1020                                   6  ...  0.00000998357\n",
              "1258                                   4  ...  0.00001201680\n",
              "1468                                   5  ...  0.00001379405\n",
              "1750                                   7  ...  0.00001576285\n",
              "2042                                   8  ...  0.00001881266\n",
              "\n",
              "[9 rows x 5 columns]"
            ]
          },
          "metadata": {},
          "execution_count": 26
        }
      ]
    },
    {
      "cell_type": "markdown",
      "metadata": {
        "id": "OZHs28aGfO51"
      },
      "source": [
        "##### Gráficas"
      ]
    },
    {
      "cell_type": "markdown",
      "metadata": {
        "id": "eFidNwudVn8y"
      },
      "source": [
        "####Hashing"
      ]
    },
    {
      "cell_type": "code",
      "metadata": {
        "id": "K6iaVDhrf3Gq"
      },
      "source": [
        "import matplotlib.pyplot as plt"
      ],
      "execution_count": 27,
      "outputs": []
    },
    {
      "cell_type": "code",
      "metadata": {
        "colab": {
          "base_uri": "https://localhost:8080/",
          "height": 309
        },
        "id": "hneYE33yjR2Z",
        "outputId": "3756acea-53d4-4db6-843f-8badb317206f"
      },
      "source": [
        "ax = hash_data_mean[['Vector Number', 'SHA-2 384', 'SHA-2 512', 'SHA-3 384', 'SHA-3 512']].plot(x='Vector Number',\n",
        "        kind='bar',\n",
        "        stacked=False,\n",
        "        title='Time Hashing',\n",
        "        ylabel='Time [s]')\n",
        "ax"
      ],
      "execution_count": 28,
      "outputs": [
        {
          "output_type": "execute_result",
          "data": {
            "text/plain": [
              "<matplotlib.axes._subplots.AxesSubplot at 0x7f4ac7dbcfd0>"
            ]
          },
          "metadata": {},
          "execution_count": 28
        },
        {
          "output_type": "display_data",
          "data": {
            "image/png": "[encoded data removed]",
            "text/plain": [
              "<Figure size 432x288 with 1 Axes>"
            ]
          },
          "metadata": {
            "needs_background": "light"
          }
        }
      ]
    },
    {
      "cell_type": "markdown",
      "metadata": {
        "id": "yzvaB2UpyUNp"
      },
      "source": [
        ""
      ]
    },
    {
      "cell_type": "markdown",
      "metadata": {
        "id": "IA7JmQM2zIf-"
      },
      "source": [
        "####Encryption, Decryption, Signing and Verifying "
      ]
    },
    {
      "cell_type": "code",
      "metadata": {
        "id": "uKso63suzMcr"
      },
      "source": [
        "def prueba_RSA(vector, index, length):\n",
        "    list_tests = []\n",
        "    for i in range(3):\n",
        "        dict_round = {}\n",
        "        dict_round['Vector Number'] = index\n",
        "        dict_round['Test Vectors'] = vector\n",
        "        dict_round['Length of vector in Bytes'] = length\n",
        "        dict_round['RSA-OAEP Encryption Time'] = RSA_OAEP_enc(vector)[0]\n",
        "        dict_round['RSA-OAEP Decryption Time'] = RSA_OAEP_dec(vector)[0]\n",
        "        dict_round['ChaCha20 Encryption Time'], dict_round['AES-EBC Encryption Time'], dict_round['AES-CBC Encryption Time'] = Chacha_20_test(vector)\n",
        "        dict_round['ChaCha20 Decryption Time'], dict_round['AES-EBC Decryption Time'], dict_round['AES-CBC Decryption Time'] = Chacha_20_test(vector)\n",
        "        dict_round['RSA-PSS Signing Time'] = RSA_PSS_sign(vector)[0]\n",
        "        dict_round['RSA-PSS Verifying Time'] = RSA_PSS_verif(vector)[0]\n",
        "        list_tests.append(dict_round)\n",
        "    return list_tests"
      ],
      "execution_count": 29,
      "outputs": []
    },
    {
      "cell_type": "code",
      "metadata": {
        "id": "uGbQQr5SzaPZ",
        "colab": {
          "base_uri": "https://localhost:8080/"
        },
        "outputId": "7f462a69-66b7-45ee-b4bd-9cbabeafe50f"
      },
      "source": [
        "lista = []\n",
        "i = 0\n",
        "for vector in vectores:\n",
        "  lista += prueba_RSA(vector, i, len(vector.encode('utf-8')))\n",
        "  i += 1"
      ],
      "execution_count": 30,
      "outputs": [
        {
          "output_type": "stream",
          "name": "stdout",
          "text": [
            "0.008951836999983698\n",
            "0.00800409400000035\n",
            "The signature is authentic\n",
            "0.0024062680000156433\n",
            "0.006391369999988683\n",
            "The signature is authentic\n",
            "0.0021465499999919757\n",
            "0.0064490439999929094\n",
            "The signature is authentic\n",
            "0.002145471999995152\n",
            "0.0062635189999866725\n",
            "The signature is authentic\n",
            "0.0021578639999972893\n",
            "0.006113050999999814\n",
            "The signature is authentic\n",
            "0.0020892050000043128\n",
            "0.006336872000019866\n",
            "The signature is authentic\n",
            "0.0021543909999763855\n",
            "0.006175861000002669\n",
            "The signature is authentic\n",
            "0.003309172000001581\n",
            "0.010165545999996084\n",
            "The signature is authentic\n",
            "0.003978988000000072\n",
            "0.006293089000024565\n",
            "The signature is authentic\n",
            "0.0023076380000190966\n",
            "0.0062160740000081205\n",
            "The signature is authentic\n",
            "0.0023823189999916394\n",
            "0.006061428000009528\n",
            "The signature is authentic\n",
            "0.0020639180000046053\n",
            "0.006317856999999094\n",
            "The signature is authentic\n",
            "0.0022480100000166203\n",
            "0.005885506999987911\n",
            "The signature is authentic\n",
            "0.0028028069999948\n",
            "0.006691159000013158\n",
            "The signature is authentic\n",
            "0.002140110999988565\n",
            "0.006222926000020834\n",
            "The signature is authentic\n",
            "0.002042569999986199\n",
            "0.005783444000002191\n",
            "The signature is authentic\n",
            "0.001685912999988659\n",
            "0.006420055999996066\n",
            "The signature is authentic\n",
            "0.00202575199998023\n",
            "0.006028667000009591\n",
            "The signature is authentic\n",
            "0.002208361000015202\n",
            "0.006030542999980071\n",
            "The signature is authentic\n",
            "0.0020395340000050055\n",
            "0.006305953000008913\n",
            "The signature is authentic\n",
            "0.002047503000000006\n",
            "0.010346239000000423\n",
            "The signature is authentic\n",
            "0.0024939689999996517\n",
            "0.006414163999977518\n",
            "The signature is authentic\n",
            "0.002307776999998623\n",
            "0.00641667599998641\n",
            "The signature is authentic\n",
            "0.002365102000027264\n",
            "0.008168064999978242\n",
            "The signature is authentic\n"
          ]
        }
      ]
    },
    {
      "cell_type": "code",
      "metadata": {
        "colab": {
          "base_uri": "https://localhost:8080/",
          "height": 1000
        },
        "id": "6f2QKTSpz8p2",
        "outputId": "9ac5f129-81bd-463c-834e-a3dd9dfb10e3"
      },
      "source": [
        "pd.set_option(\"display.precision\", 12)\n",
        "RSA_data = pd.DataFrame(lista)\n",
        "RSA_data = RSA_data.sort_values(by=['Length of vector in Bytes'])\n",
        "RSA_data"
      ],
      "execution_count": 31,
      "outputs": [
        {
          "output_type": "execute_result",
          "data": {
            "text/html": [
              "<div>\n",
              "<style scoped>\n",
              "    .dataframe tbody tr th:only-of-type {\n",
              "        vertical-align: middle;\n",
              "    }\n",
              "\n",
              "    .dataframe tbody tr th {\n",
              "        vertical-align: top;\n",
              "    }\n",
              "\n",
              "    .dataframe thead th {\n",
              "        text-align: right;\n",
              "    }\n",
              "</style>\n",
              "<table border=\"1\" class=\"dataframe\">\n",
              "  <thead>\n",
              "    <tr style=\"text-align: right;\">\n",
              "      <th></th>\n",
              "      <th>Vector Number</th>\n",
              "      <th>Test Vectors</th>\n",
              "      <th>Length of vector in Bytes</th>\n",
              "      <th>RSA-OAEP Encryption Time</th>\n",
              "      <th>RSA-OAEP Decryption Time</th>\n",
              "      <th>ChaCha20 Encryption Time</th>\n",
              "      <th>AES-EBC Encryption Time</th>\n",
              "      <th>AES-CBC Encryption Time</th>\n",
              "      <th>ChaCha20 Decryption Time</th>\n",
              "      <th>AES-EBC Decryption Time</th>\n",
              "      <th>AES-CBC Decryption Time</th>\n",
              "      <th>RSA-PSS Signing Time</th>\n",
              "      <th>RSA-PSS Verifying Time</th>\n",
              "    </tr>\n",
              "  </thead>\n",
              "  <tbody>\n",
              "    <tr>\n",
              "      <th>20</th>\n",
              "      <td>6</td>\n",
              "      <td>Texto plano</td>\n",
              "      <td>11</td>\n",
              "      <td>0.002047503</td>\n",
              "      <td>0.010346239</td>\n",
              "      <td>0.000065906</td>\n",
              "      <td>0.000075835</td>\n",
              "      <td>0.000065516</td>\n",
              "      <td>0.000496719</td>\n",
              "      <td>0.000042085</td>\n",
              "      <td>0.000033128</td>\n",
              "      <td>0.006399183</td>\n",
              "      <td>0.007687964</td>\n",
              "    </tr>\n",
              "    <tr>\n",
              "      <th>19</th>\n",
              "      <td>6</td>\n",
              "      <td>Texto plano</td>\n",
              "      <td>11</td>\n",
              "      <td>0.002039534</td>\n",
              "      <td>0.006305953</td>\n",
              "      <td>0.000429260</td>\n",
              "      <td>0.000058107</td>\n",
              "      <td>0.000032778</td>\n",
              "      <td>0.000016933</td>\n",
              "      <td>0.000019600</td>\n",
              "      <td>0.000022374</td>\n",
              "      <td>0.006250377</td>\n",
              "      <td>0.007562754</td>\n",
              "    </tr>\n",
              "    <tr>\n",
              "      <th>18</th>\n",
              "      <td>6</td>\n",
              "      <td>Texto plano</td>\n",
              "      <td>11</td>\n",
              "      <td>0.002208361</td>\n",
              "      <td>0.006030543</td>\n",
              "      <td>0.000060184</td>\n",
              "      <td>0.000068222</td>\n",
              "      <td>0.000062149</td>\n",
              "      <td>0.000449185</td>\n",
              "      <td>0.000035648</td>\n",
              "      <td>0.000030829</td>\n",
              "      <td>0.006026558</td>\n",
              "      <td>0.007547044</td>\n",
              "    </tr>\n",
              "    <tr>\n",
              "      <th>0</th>\n",
              "      <td>0</td>\n",
              "      <td>Attack at dawn</td>\n",
              "      <td>14</td>\n",
              "      <td>0.008951837</td>\n",
              "      <td>0.008004094</td>\n",
              "      <td>0.000446862</td>\n",
              "      <td>0.000533144</td>\n",
              "      <td>0.000388429</td>\n",
              "      <td>0.000056041</td>\n",
              "      <td>0.000077263</td>\n",
              "      <td>0.000069508</td>\n",
              "      <td>0.007479601</td>\n",
              "      <td>0.007993622</td>\n",
              "    </tr>\n",
              "    <tr>\n",
              "      <th>1</th>\n",
              "      <td>0</td>\n",
              "      <td>Attack at dawn</td>\n",
              "      <td>14</td>\n",
              "      <td>0.002406268</td>\n",
              "      <td>0.006391370</td>\n",
              "      <td>0.000524584</td>\n",
              "      <td>0.000046899</td>\n",
              "      <td>0.000039909</td>\n",
              "      <td>0.000017292</td>\n",
              "      <td>0.000022329</td>\n",
              "      <td>0.000023017</td>\n",
              "      <td>0.006155896</td>\n",
              "      <td>0.007996147</td>\n",
              "    </tr>\n",
              "    <tr>\n",
              "      <th>2</th>\n",
              "      <td>0</td>\n",
              "      <td>Attack at dawn</td>\n",
              "      <td>14</td>\n",
              "      <td>0.002146550</td>\n",
              "      <td>0.006449044</td>\n",
              "      <td>0.000064323</td>\n",
              "      <td>0.000532009</td>\n",
              "      <td>0.000048878</td>\n",
              "      <td>0.000024529</td>\n",
              "      <td>0.000037657</td>\n",
              "      <td>0.000025927</td>\n",
              "      <td>0.006118913</td>\n",
              "      <td>0.008115633</td>\n",
              "    </tr>\n",
              "    <tr>\n",
              "      <th>10</th>\n",
              "      <td>3</td>\n",
              "      <td>You're all going down</td>\n",
              "      <td>21</td>\n",
              "      <td>0.002382319</td>\n",
              "      <td>0.006061428</td>\n",
              "      <td>0.000060210</td>\n",
              "      <td>0.000536726</td>\n",
              "      <td>0.000050482</td>\n",
              "      <td>0.000025441</td>\n",
              "      <td>0.000035720</td>\n",
              "      <td>0.000024573</td>\n",
              "      <td>0.006206294</td>\n",
              "      <td>0.007829649</td>\n",
              "    </tr>\n",
              "    <tr>\n",
              "      <th>9</th>\n",
              "      <td>3</td>\n",
              "      <td>You're all going down</td>\n",
              "      <td>21</td>\n",
              "      <td>0.002307638</td>\n",
              "      <td>0.006216074</td>\n",
              "      <td>0.000063987</td>\n",
              "      <td>0.000067495</td>\n",
              "      <td>0.000062033</td>\n",
              "      <td>0.000039008</td>\n",
              "      <td>0.000040237</td>\n",
              "      <td>0.000049081</td>\n",
              "      <td>0.006568162</td>\n",
              "      <td>0.007596720</td>\n",
              "    </tr>\n",
              "    <tr>\n",
              "      <th>11</th>\n",
              "      <td>3</td>\n",
              "      <td>You're all going down</td>\n",
              "      <td>21</td>\n",
              "      <td>0.002063918</td>\n",
              "      <td>0.006317857</td>\n",
              "      <td>0.000470728</td>\n",
              "      <td>0.000048240</td>\n",
              "      <td>0.000033769</td>\n",
              "      <td>0.000016122</td>\n",
              "      <td>0.000024104</td>\n",
              "      <td>0.000021230</td>\n",
              "      <td>0.006243173</td>\n",
              "      <td>0.007244711</td>\n",
              "    </tr>\n",
              "    <tr>\n",
              "      <th>5</th>\n",
              "      <td>1</td>\n",
              "      <td>Segunda prueba jajaja</td>\n",
              "      <td>21</td>\n",
              "      <td>0.002089205</td>\n",
              "      <td>0.006336872</td>\n",
              "      <td>0.000453754</td>\n",
              "      <td>0.000058209</td>\n",
              "      <td>0.000035274</td>\n",
              "      <td>0.000019891</td>\n",
              "      <td>0.000019624</td>\n",
              "      <td>0.000022872</td>\n",
              "      <td>0.005983210</td>\n",
              "      <td>0.007531549</td>\n",
              "    </tr>\n",
              "    <tr>\n",
              "      <th>4</th>\n",
              "      <td>1</td>\n",
              "      <td>Segunda prueba jajaja</td>\n",
              "      <td>21</td>\n",
              "      <td>0.002157864</td>\n",
              "      <td>0.006113051</td>\n",
              "      <td>0.000053304</td>\n",
              "      <td>0.000066555</td>\n",
              "      <td>0.000464791</td>\n",
              "      <td>0.000023544</td>\n",
              "      <td>0.000043800</td>\n",
              "      <td>0.000045061</td>\n",
              "      <td>0.006184559</td>\n",
              "      <td>0.007530290</td>\n",
              "    </tr>\n",
              "    <tr>\n",
              "      <th>3</th>\n",
              "      <td>1</td>\n",
              "      <td>Segunda prueba jajaja</td>\n",
              "      <td>21</td>\n",
              "      <td>0.002145472</td>\n",
              "      <td>0.006263519</td>\n",
              "      <td>0.000053000</td>\n",
              "      <td>0.000077645</td>\n",
              "      <td>0.000060667</td>\n",
              "      <td>0.000036309</td>\n",
              "      <td>0.000039941</td>\n",
              "      <td>0.000063879</td>\n",
              "      <td>0.005674902</td>\n",
              "      <td>0.007328486</td>\n",
              "    </tr>\n",
              "    <tr>\n",
              "      <th>22</th>\n",
              "      <td>7</td>\n",
              "      <td>Cadena de media longitud</td>\n",
              "      <td>24</td>\n",
              "      <td>0.002307777</td>\n",
              "      <td>0.006416676</td>\n",
              "      <td>0.000537353</td>\n",
              "      <td>0.000061412</td>\n",
              "      <td>0.000037366</td>\n",
              "      <td>0.000023286</td>\n",
              "      <td>0.000021631</td>\n",
              "      <td>0.000024583</td>\n",
              "      <td>0.006718019</td>\n",
              "      <td>0.008039294</td>\n",
              "    </tr>\n",
              "    <tr>\n",
              "      <th>21</th>\n",
              "      <td>7</td>\n",
              "      <td>Cadena de media longitud</td>\n",
              "      <td>24</td>\n",
              "      <td>0.002493969</td>\n",
              "      <td>0.006414164</td>\n",
              "      <td>0.000487903</td>\n",
              "      <td>0.000048561</td>\n",
              "      <td>0.000035180</td>\n",
              "      <td>0.000018836</td>\n",
              "      <td>0.000019890</td>\n",
              "      <td>0.000022328</td>\n",
              "      <td>0.006278323</td>\n",
              "      <td>0.007999556</td>\n",
              "    </tr>\n",
              "    <tr>\n",
              "      <th>23</th>\n",
              "      <td>7</td>\n",
              "      <td>Cadena de media longitud</td>\n",
              "      <td>24</td>\n",
              "      <td>0.002365102</td>\n",
              "      <td>0.008168065</td>\n",
              "      <td>0.000072048</td>\n",
              "      <td>0.000071595</td>\n",
              "      <td>0.000054341</td>\n",
              "      <td>0.000026840</td>\n",
              "      <td>0.000031769</td>\n",
              "      <td>0.000051835</td>\n",
              "      <td>0.009119219</td>\n",
              "      <td>0.009567572</td>\n",
              "    </tr>\n",
              "    <tr>\n",
              "      <th>12</th>\n",
              "      <td>4</td>\n",
              "      <td>La Criptografia es muy interesante</td>\n",
              "      <td>34</td>\n",
              "      <td>0.002248010</td>\n",
              "      <td>0.005885507</td>\n",
              "      <td>0.000061068</td>\n",
              "      <td>0.000072089</td>\n",
              "      <td>0.000072547</td>\n",
              "      <td>0.000522543</td>\n",
              "      <td>0.000042883</td>\n",
              "      <td>0.000032404</td>\n",
              "      <td>0.007253687</td>\n",
              "      <td>0.011169716</td>\n",
              "    </tr>\n",
              "    <tr>\n",
              "      <th>13</th>\n",
              "      <td>4</td>\n",
              "      <td>La Criptografia es muy interesante</td>\n",
              "      <td>34</td>\n",
              "      <td>0.002802807</td>\n",
              "      <td>0.006691159</td>\n",
              "      <td>0.000456508</td>\n",
              "      <td>0.000045994</td>\n",
              "      <td>0.000038974</td>\n",
              "      <td>0.000016178</td>\n",
              "      <td>0.000018587</td>\n",
              "      <td>0.000021323</td>\n",
              "      <td>0.005761449</td>\n",
              "      <td>0.007110413</td>\n",
              "    </tr>\n",
              "    <tr>\n",
              "      <th>14</th>\n",
              "      <td>4</td>\n",
              "      <td>La Criptografia es muy interesante</td>\n",
              "      <td>34</td>\n",
              "      <td>0.002140111</td>\n",
              "      <td>0.006222926</td>\n",
              "      <td>0.000058576</td>\n",
              "      <td>0.000068669</td>\n",
              "      <td>0.000422726</td>\n",
              "      <td>0.000091781</td>\n",
              "      <td>0.000033139</td>\n",
              "      <td>0.000026242</td>\n",
              "      <td>0.005765656</td>\n",
              "      <td>0.007485062</td>\n",
              "    </tr>\n",
              "    <tr>\n",
              "      <th>7</th>\n",
              "      <td>2</td>\n",
              "      <td>Texto mas largo que la segunda prueba</td>\n",
              "      <td>37</td>\n",
              "      <td>0.003309172</td>\n",
              "      <td>0.010165546</td>\n",
              "      <td>0.000051769</td>\n",
              "      <td>0.000056150</td>\n",
              "      <td>0.000048306</td>\n",
              "      <td>0.000028139</td>\n",
              "      <td>0.000033274</td>\n",
              "      <td>0.000040174</td>\n",
              "      <td>0.008997823</td>\n",
              "      <td>0.009387051</td>\n",
              "    </tr>\n",
              "    <tr>\n",
              "      <th>6</th>\n",
              "      <td>2</td>\n",
              "      <td>Texto mas largo que la segunda prueba</td>\n",
              "      <td>37</td>\n",
              "      <td>0.002154391</td>\n",
              "      <td>0.006175861</td>\n",
              "      <td>0.000074556</td>\n",
              "      <td>0.000062033</td>\n",
              "      <td>0.000060973</td>\n",
              "      <td>0.000478395</td>\n",
              "      <td>0.000039374</td>\n",
              "      <td>0.000035933</td>\n",
              "      <td>0.006057487</td>\n",
              "      <td>0.007612584</td>\n",
              "    </tr>\n",
              "    <tr>\n",
              "      <th>8</th>\n",
              "      <td>2</td>\n",
              "      <td>Texto mas largo que la segunda prueba</td>\n",
              "      <td>37</td>\n",
              "      <td>0.003978988</td>\n",
              "      <td>0.006293089</td>\n",
              "      <td>0.000547893</td>\n",
              "      <td>0.000047199</td>\n",
              "      <td>0.000035830</td>\n",
              "      <td>0.000018600</td>\n",
              "      <td>0.000020536</td>\n",
              "      <td>0.000023796</td>\n",
              "      <td>0.005722905</td>\n",
              "      <td>0.007604126</td>\n",
              "    </tr>\n",
              "    <tr>\n",
              "      <th>15</th>\n",
              "      <td>5</td>\n",
              "      <td>Este es otro vector de prueba para cifrar</td>\n",
              "      <td>41</td>\n",
              "      <td>0.002042570</td>\n",
              "      <td>0.005783444</td>\n",
              "      <td>0.000493088</td>\n",
              "      <td>0.000059705</td>\n",
              "      <td>0.000039193</td>\n",
              "      <td>0.000035350</td>\n",
              "      <td>0.000022650</td>\n",
              "      <td>0.000024570</td>\n",
              "      <td>0.005703540</td>\n",
              "      <td>0.010306755</td>\n",
              "    </tr>\n",
              "    <tr>\n",
              "      <th>16</th>\n",
              "      <td>5</td>\n",
              "      <td>Este es otro vector de prueba para cifrar</td>\n",
              "      <td>41</td>\n",
              "      <td>0.001685913</td>\n",
              "      <td>0.006420056</td>\n",
              "      <td>0.000483969</td>\n",
              "      <td>0.000046275</td>\n",
              "      <td>0.000033186</td>\n",
              "      <td>0.000020378</td>\n",
              "      <td>0.000028627</td>\n",
              "      <td>0.000025775</td>\n",
              "      <td>0.008305394</td>\n",
              "      <td>0.007411090</td>\n",
              "    </tr>\n",
              "    <tr>\n",
              "      <th>17</th>\n",
              "      <td>5</td>\n",
              "      <td>Este es otro vector de prueba para cifrar</td>\n",
              "      <td>41</td>\n",
              "      <td>0.002025752</td>\n",
              "      <td>0.006028667</td>\n",
              "      <td>0.000482471</td>\n",
              "      <td>0.000062534</td>\n",
              "      <td>0.000047615</td>\n",
              "      <td>0.000016309</td>\n",
              "      <td>0.000032750</td>\n",
              "      <td>0.000032566</td>\n",
              "      <td>0.011107723</td>\n",
              "      <td>0.007728738</td>\n",
              "    </tr>\n",
              "  </tbody>\n",
              "</table>\n",
              "</div>"
            ],
            "text/plain": [
              "    Vector Number  ... RSA-PSS Verifying Time\n",
              "20              6  ...            0.007687964\n",
              "19              6  ...            0.007562754\n",
              "18              6  ...            0.007547044\n",
              "0               0  ...            0.007993622\n",
              "1               0  ...            0.007996147\n",
              "2               0  ...            0.008115633\n",
              "10              3  ...            0.007829649\n",
              "9               3  ...            0.007596720\n",
              "11              3  ...            0.007244711\n",
              "5               1  ...            0.007531549\n",
              "4               1  ...            0.007530290\n",
              "3               1  ...            0.007328486\n",
              "22              7  ...            0.008039294\n",
              "21              7  ...            0.007999556\n",
              "23              7  ...            0.009567572\n",
              "12              4  ...            0.011169716\n",
              "13              4  ...            0.007110413\n",
              "14              4  ...            0.007485062\n",
              "7               2  ...            0.009387051\n",
              "6               2  ...            0.007612584\n",
              "8               2  ...            0.007604126\n",
              "15              5  ...            0.010306755\n",
              "16              5  ...            0.007411090\n",
              "17              5  ...            0.007728738\n",
              "\n",
              "[24 rows x 13 columns]"
            ]
          },
          "metadata": {},
          "execution_count": 31
        }
      ]
    },
    {
      "cell_type": "code",
      "metadata": {
        "colab": {
          "base_uri": "https://localhost:8080/",
          "height": 419
        },
        "id": "kEdY_d4A0F_5",
        "outputId": "53e04abd-9706-42f0-a6d6-63aae827f2dd"
      },
      "source": [
        "RSA_data_mean = RSA_data.groupby('Length of vector in Bytes').mean()\n",
        "RSA_data_mean.set_index('Vector Number')\n",
        "RSA_data_mean"
      ],
      "execution_count": 32,
      "outputs": [
        {
          "output_type": "execute_result",
          "data": {
            "text/html": [
              "<div>\n",
              "<style scoped>\n",
              "    .dataframe tbody tr th:only-of-type {\n",
              "        vertical-align: middle;\n",
              "    }\n",
              "\n",
              "    .dataframe tbody tr th {\n",
              "        vertical-align: top;\n",
              "    }\n",
              "\n",
              "    .dataframe thead th {\n",
              "        text-align: right;\n",
              "    }\n",
              "</style>\n",
              "<table border=\"1\" class=\"dataframe\">\n",
              "  <thead>\n",
              "    <tr style=\"text-align: right;\">\n",
              "      <th></th>\n",
              "      <th>Vector Number</th>\n",
              "      <th>RSA-OAEP Encryption Time</th>\n",
              "      <th>RSA-OAEP Decryption Time</th>\n",
              "      <th>ChaCha20 Encryption Time</th>\n",
              "      <th>AES-EBC Encryption Time</th>\n",
              "      <th>AES-CBC Encryption Time</th>\n",
              "      <th>ChaCha20 Decryption Time</th>\n",
              "      <th>AES-EBC Decryption Time</th>\n",
              "      <th>AES-CBC Decryption Time</th>\n",
              "      <th>RSA-PSS Signing Time</th>\n",
              "      <th>RSA-PSS Verifying Time</th>\n",
              "    </tr>\n",
              "    <tr>\n",
              "      <th>Length of vector in Bytes</th>\n",
              "      <th></th>\n",
              "      <th></th>\n",
              "      <th></th>\n",
              "      <th></th>\n",
              "      <th></th>\n",
              "      <th></th>\n",
              "      <th></th>\n",
              "      <th></th>\n",
              "      <th></th>\n",
              "      <th></th>\n",
              "      <th></th>\n",
              "    </tr>\n",
              "  </thead>\n",
              "  <tbody>\n",
              "    <tr>\n",
              "      <th>11</th>\n",
              "      <td>6</td>\n",
              "      <td>0.002098466000</td>\n",
              "      <td>0.007560911667</td>\n",
              "      <td>0.000185116667</td>\n",
              "      <td>0.000067388000</td>\n",
              "      <td>0.000053481000</td>\n",
              "      <td>0.000320945667</td>\n",
              "      <td>0.000032444333</td>\n",
              "      <td>0.000028777000</td>\n",
              "      <td>0.006225372667</td>\n",
              "      <td>0.007599254000</td>\n",
              "    </tr>\n",
              "    <tr>\n",
              "      <th>14</th>\n",
              "      <td>0</td>\n",
              "      <td>0.004501551667</td>\n",
              "      <td>0.006948169333</td>\n",
              "      <td>0.000345256333</td>\n",
              "      <td>0.000370684000</td>\n",
              "      <td>0.000159072000</td>\n",
              "      <td>0.000032620667</td>\n",
              "      <td>0.000045749667</td>\n",
              "      <td>0.000039484000</td>\n",
              "      <td>0.006584803333</td>\n",
              "      <td>0.008035134000</td>\n",
              "    </tr>\n",
              "    <tr>\n",
              "      <th>21</th>\n",
              "      <td>2</td>\n",
              "      <td>0.002191069333</td>\n",
              "      <td>0.006218133500</td>\n",
              "      <td>0.000192497167</td>\n",
              "      <td>0.000142478333</td>\n",
              "      <td>0.000117836000</td>\n",
              "      <td>0.000026719167</td>\n",
              "      <td>0.000033904333</td>\n",
              "      <td>0.000037782667</td>\n",
              "      <td>0.006143383333</td>\n",
              "      <td>0.007510234167</td>\n",
              "    </tr>\n",
              "    <tr>\n",
              "      <th>24</th>\n",
              "      <td>7</td>\n",
              "      <td>0.002388949333</td>\n",
              "      <td>0.006999635000</td>\n",
              "      <td>0.000365768000</td>\n",
              "      <td>0.000060522667</td>\n",
              "      <td>0.000042295667</td>\n",
              "      <td>0.000022987333</td>\n",
              "      <td>0.000024430000</td>\n",
              "      <td>0.000032915333</td>\n",
              "      <td>0.007371853667</td>\n",
              "      <td>0.008535474000</td>\n",
              "    </tr>\n",
              "    <tr>\n",
              "      <th>34</th>\n",
              "      <td>4</td>\n",
              "      <td>0.002396976000</td>\n",
              "      <td>0.006266530667</td>\n",
              "      <td>0.000192050667</td>\n",
              "      <td>0.000062250667</td>\n",
              "      <td>0.000178082333</td>\n",
              "      <td>0.000210167333</td>\n",
              "      <td>0.000031536333</td>\n",
              "      <td>0.000026656333</td>\n",
              "      <td>0.006260264000</td>\n",
              "      <td>0.008588397000</td>\n",
              "    </tr>\n",
              "    <tr>\n",
              "      <th>37</th>\n",
              "      <td>2</td>\n",
              "      <td>0.003147517000</td>\n",
              "      <td>0.007544832000</td>\n",
              "      <td>0.000224739333</td>\n",
              "      <td>0.000055127333</td>\n",
              "      <td>0.000048369667</td>\n",
              "      <td>0.000175044667</td>\n",
              "      <td>0.000031061333</td>\n",
              "      <td>0.000033301000</td>\n",
              "      <td>0.006926071667</td>\n",
              "      <td>0.008201253667</td>\n",
              "    </tr>\n",
              "    <tr>\n",
              "      <th>41</th>\n",
              "      <td>5</td>\n",
              "      <td>0.001918078333</td>\n",
              "      <td>0.006077389000</td>\n",
              "      <td>0.000486509333</td>\n",
              "      <td>0.000056171333</td>\n",
              "      <td>0.000039998000</td>\n",
              "      <td>0.000024012333</td>\n",
              "      <td>0.000028009000</td>\n",
              "      <td>0.000027637000</td>\n",
              "      <td>0.008372219000</td>\n",
              "      <td>0.008482194333</td>\n",
              "    </tr>\n",
              "  </tbody>\n",
              "</table>\n",
              "</div>"
            ],
            "text/plain": [
              "                           Vector Number  ...  RSA-PSS Verifying Time\n",
              "Length of vector in Bytes                 ...                        \n",
              "11                                     6  ...          0.007599254000\n",
              "14                                     0  ...          0.008035134000\n",
              "21                                     2  ...          0.007510234167\n",
              "24                                     7  ...          0.008535474000\n",
              "34                                     4  ...          0.008588397000\n",
              "37                                     2  ...          0.008201253667\n",
              "41                                     5  ...          0.008482194333\n",
              "\n",
              "[7 rows x 11 columns]"
            ]
          },
          "metadata": {},
          "execution_count": 32
        }
      ]
    },
    {
      "cell_type": "code",
      "metadata": {
        "id": "PNTzLNzpW4NN"
      },
      "source": [
        "def genera_prueba_Sign(vector, index, length):\n",
        "    list_tests = []\n",
        "    for i in range(10):\n",
        "        dict_round = {}\n",
        "        dict_round['Vector Number'] = index\n",
        "        dict_round['Test Vectors'] = vector\n",
        "        dict_round['Length of vector in Bytes'] = length\n",
        "        dict_round['Time to sign (ECDSA Prime Field)'], dict_round['Time to verify (ECDSA Prime Field)']  = ECDSA_PrimeField_Sign_and_verify(vector)\n",
        "        dict_round['Time to sign (ECDSA Binary Field)'], dict_round['Time to verify (ECDSA Binary Field)'] = ECDSA_BinaryField_Sign_and_Verify(vector)\n",
        "        dict_round['RSA-PSS Signing Time'] = RSA_PSS_sign(vector)[0]\n",
        "        dict_round['RSA-PSS Verifying Time'] = RSA_PSS_verif(vector)[0]\n",
        "        list_tests.append(dict_round)\n",
        "    return list_tests\n",
        "\n",
        "f = open('plain_text.txt')\n",
        "vectors = []\n",
        "for linea in f:\n",
        "    vectors.append(linea.replace('\\n',''))"
      ],
      "execution_count": 33,
      "outputs": []
    },
    {
      "cell_type": "code",
      "metadata": {
        "colab": {
          "base_uri": "https://localhost:8080/"
        },
        "id": "8XkJoIn2eBNJ",
        "outputId": "1880d582-1b1f-4d80-dc15-8ecba3594568"
      },
      "source": [
        "lista = []\n",
        "i = 0\n",
        "for vector in vectors:\n",
        "    lista += genera_prueba_Sign(vector, i, len(vector.encode('utf-8')))\n",
        "    i += 1"
      ],
      "execution_count": 34,
      "outputs": [
        {
          "output_type": "stream",
          "name": "stdout",
          "text": [
            "The signature is authentic\n",
            "The signature is authentic\n",
            "The signature is authentic\n",
            "The signature is authentic\n",
            "The signature is authentic\n",
            "The signature is authentic\n",
            "The signature is authentic\n",
            "The signature is authentic\n",
            "The signature is authentic\n",
            "The signature is authentic\n",
            "The signature is authentic\n",
            "The signature is authentic\n",
            "The signature is authentic\n",
            "The signature is authentic\n",
            "The signature is authentic\n",
            "The signature is authentic\n",
            "The signature is authentic\n",
            "The signature is authentic\n",
            "The signature is authentic\n",
            "The signature is authentic\n",
            "The signature is authentic\n",
            "The signature is authentic\n",
            "The signature is authentic\n",
            "The signature is authentic\n",
            "The signature is authentic\n",
            "The signature is authentic\n",
            "The signature is authentic\n",
            "The signature is authentic\n",
            "The signature is authentic\n",
            "The signature is authentic\n",
            "The signature is authentic\n",
            "The signature is authentic\n",
            "The signature is authentic\n",
            "The signature is authentic\n",
            "The signature is authentic\n",
            "The signature is authentic\n",
            "The signature is authentic\n",
            "The signature is authentic\n",
            "The signature is authentic\n",
            "The signature is authentic\n",
            "The signature is authentic\n",
            "The signature is authentic\n",
            "The signature is authentic\n",
            "The signature is authentic\n",
            "The signature is authentic\n",
            "The signature is authentic\n",
            "The signature is authentic\n",
            "The signature is authentic\n",
            "The signature is authentic\n",
            "The signature is authentic\n",
            "The signature is authentic\n",
            "The signature is authentic\n",
            "The signature is authentic\n",
            "The signature is authentic\n",
            "The signature is authentic\n",
            "The signature is authentic\n",
            "The signature is authentic\n",
            "The signature is authentic\n",
            "The signature is authentic\n",
            "The signature is authentic\n",
            "The signature is authentic\n",
            "The signature is authentic\n",
            "The signature is authentic\n",
            "The signature is authentic\n",
            "The signature is authentic\n",
            "The signature is authentic\n",
            "The signature is authentic\n",
            "The signature is authentic\n",
            "The signature is authentic\n",
            "The signature is authentic\n",
            "The signature is authentic\n",
            "The signature is authentic\n",
            "The signature is authentic\n",
            "The signature is authentic\n",
            "The signature is authentic\n",
            "The signature is authentic\n",
            "The signature is authentic\n",
            "The signature is authentic\n",
            "The signature is authentic\n",
            "The signature is authentic\n"
          ]
        }
      ]
    },
    {
      "cell_type": "code",
      "metadata": {
        "colab": {
          "base_uri": "https://localhost:8080/",
          "height": 623
        },
        "id": "UAhBpdD8XYT5",
        "outputId": "86135a83-38f7-4e73-92bd-035887b87f97"
      },
      "source": [
        "pd.set_option(\"display.precision\", 12)\n",
        "sign_data = pd.DataFrame(lista)\n",
        "sign_data = sign_data.sort_values(by=['Length of vector in Bytes'])\n",
        "sign_data"
      ],
      "execution_count": 35,
      "outputs": [
        {
          "output_type": "execute_result",
          "data": {
            "text/html": [
              "<div>\n",
              "<style scoped>\n",
              "    .dataframe tbody tr th:only-of-type {\n",
              "        vertical-align: middle;\n",
              "    }\n",
              "\n",
              "    .dataframe tbody tr th {\n",
              "        vertical-align: top;\n",
              "    }\n",
              "\n",
              "    .dataframe thead th {\n",
              "        text-align: right;\n",
              "    }\n",
              "</style>\n",
              "<table border=\"1\" class=\"dataframe\">\n",
              "  <thead>\n",
              "    <tr style=\"text-align: right;\">\n",
              "      <th></th>\n",
              "      <th>Vector Number</th>\n",
              "      <th>Test Vectors</th>\n",
              "      <th>Length of vector in Bytes</th>\n",
              "      <th>Time to sign (ECDSA Prime Field)</th>\n",
              "      <th>Time to verify (ECDSA Prime Field)</th>\n",
              "      <th>Time to sign (ECDSA Binary Field)</th>\n",
              "      <th>Time to verify (ECDSA Binary Field)</th>\n",
              "      <th>RSA-PSS Signing Time</th>\n",
              "      <th>RSA-PSS Verifying Time</th>\n",
              "    </tr>\n",
              "  </thead>\n",
              "  <tbody>\n",
              "    <tr>\n",
              "      <th>65</th>\n",
              "      <td>6</td>\n",
              "      <td>Texto plano</td>\n",
              "      <td>11</td>\n",
              "      <td>0.001681947</td>\n",
              "      <td>0.002360894</td>\n",
              "      <td>0.005541966</td>\n",
              "      <td>0.004903521</td>\n",
              "      <td>0.006689150</td>\n",
              "      <td>0.009056887</td>\n",
              "    </tr>\n",
              "    <tr>\n",
              "      <th>60</th>\n",
              "      <td>6</td>\n",
              "      <td>Texto plano</td>\n",
              "      <td>11</td>\n",
              "      <td>0.001167990</td>\n",
              "      <td>0.001917959</td>\n",
              "      <td>0.007344891</td>\n",
              "      <td>0.004482164</td>\n",
              "      <td>0.006168237</td>\n",
              "      <td>0.008219130</td>\n",
              "    </tr>\n",
              "    <tr>\n",
              "      <th>61</th>\n",
              "      <td>6</td>\n",
              "      <td>Texto plano</td>\n",
              "      <td>11</td>\n",
              "      <td>0.001181425</td>\n",
              "      <td>0.002182008</td>\n",
              "      <td>0.005074679</td>\n",
              "      <td>0.004436647</td>\n",
              "      <td>0.006693128</td>\n",
              "      <td>0.008690139</td>\n",
              "    </tr>\n",
              "    <tr>\n",
              "      <th>62</th>\n",
              "      <td>6</td>\n",
              "      <td>Texto plano</td>\n",
              "      <td>11</td>\n",
              "      <td>0.001232624</td>\n",
              "      <td>0.002074498</td>\n",
              "      <td>0.004717656</td>\n",
              "      <td>0.004402398</td>\n",
              "      <td>0.006209868</td>\n",
              "      <td>0.007919510</td>\n",
              "    </tr>\n",
              "    <tr>\n",
              "      <th>63</th>\n",
              "      <td>6</td>\n",
              "      <td>Texto plano</td>\n",
              "      <td>11</td>\n",
              "      <td>0.001143229</td>\n",
              "      <td>0.002054178</td>\n",
              "      <td>0.005081014</td>\n",
              "      <td>0.004289103</td>\n",
              "      <td>0.006304455</td>\n",
              "      <td>0.008694716</td>\n",
              "    </tr>\n",
              "    <tr>\n",
              "      <th>...</th>\n",
              "      <td>...</td>\n",
              "      <td>...</td>\n",
              "      <td>...</td>\n",
              "      <td>...</td>\n",
              "      <td>...</td>\n",
              "      <td>...</td>\n",
              "      <td>...</td>\n",
              "      <td>...</td>\n",
              "      <td>...</td>\n",
              "    </tr>\n",
              "    <tr>\n",
              "      <th>55</th>\n",
              "      <td>5</td>\n",
              "      <td>Este es otro vector de prueba para cifrar</td>\n",
              "      <td>41</td>\n",
              "      <td>0.001208435</td>\n",
              "      <td>0.002023722</td>\n",
              "      <td>0.005000156</td>\n",
              "      <td>0.004920158</td>\n",
              "      <td>0.006312613</td>\n",
              "      <td>0.007983583</td>\n",
              "    </tr>\n",
              "    <tr>\n",
              "      <th>56</th>\n",
              "      <td>5</td>\n",
              "      <td>Este es otro vector de prueba para cifrar</td>\n",
              "      <td>41</td>\n",
              "      <td>0.001195678</td>\n",
              "      <td>0.002110986</td>\n",
              "      <td>0.005148106</td>\n",
              "      <td>0.004435787</td>\n",
              "      <td>0.006290352</td>\n",
              "      <td>0.008211261</td>\n",
              "    </tr>\n",
              "    <tr>\n",
              "      <th>57</th>\n",
              "      <td>5</td>\n",
              "      <td>Este es otro vector de prueba para cifrar</td>\n",
              "      <td>41</td>\n",
              "      <td>0.001272847</td>\n",
              "      <td>0.002146480</td>\n",
              "      <td>0.005463780</td>\n",
              "      <td>0.004655250</td>\n",
              "      <td>0.006519229</td>\n",
              "      <td>0.008321629</td>\n",
              "    </tr>\n",
              "    <tr>\n",
              "      <th>59</th>\n",
              "      <td>5</td>\n",
              "      <td>Este es otro vector de prueba para cifrar</td>\n",
              "      <td>41</td>\n",
              "      <td>0.001203232</td>\n",
              "      <td>0.002192863</td>\n",
              "      <td>0.005346748</td>\n",
              "      <td>0.004424884</td>\n",
              "      <td>0.006204207</td>\n",
              "      <td>0.007850904</td>\n",
              "    </tr>\n",
              "    <tr>\n",
              "      <th>54</th>\n",
              "      <td>5</td>\n",
              "      <td>Este es otro vector de prueba para cifrar</td>\n",
              "      <td>41</td>\n",
              "      <td>0.001848335</td>\n",
              "      <td>0.002868688</td>\n",
              "      <td>0.006742511</td>\n",
              "      <td>0.004709710</td>\n",
              "      <td>0.006531434</td>\n",
              "      <td>0.008326854</td>\n",
              "    </tr>\n",
              "  </tbody>\n",
              "</table>\n",
              "<p>80 rows × 9 columns</p>\n",
              "</div>"
            ],
            "text/plain": [
              "    Vector Number  ... RSA-PSS Verifying Time\n",
              "65              6  ...            0.009056887\n",
              "60              6  ...            0.008219130\n",
              "61              6  ...            0.008690139\n",
              "62              6  ...            0.007919510\n",
              "63              6  ...            0.008694716\n",
              "..            ...  ...                    ...\n",
              "55              5  ...            0.007983583\n",
              "56              5  ...            0.008211261\n",
              "57              5  ...            0.008321629\n",
              "59              5  ...            0.007850904\n",
              "54              5  ...            0.008326854\n",
              "\n",
              "[80 rows x 9 columns]"
            ]
          },
          "metadata": {},
          "execution_count": 35
        }
      ]
    },
    {
      "cell_type": "code",
      "metadata": {
        "colab": {
          "base_uri": "https://localhost:8080/",
          "height": 348
        },
        "id": "gdqD9iQYWyju",
        "outputId": "982ae3d3-54bb-49f0-a5c3-56f8cd839b13"
      },
      "source": [
        "sign_data_mean = sign_data.groupby('Length of vector in Bytes').mean()\n",
        "sign_data_mean.set_index('Vector Number')\n",
        "sign_data_mean"
      ],
      "execution_count": 36,
      "outputs": [
        {
          "output_type": "execute_result",
          "data": {
            "text/html": [
              "<div>\n",
              "<style scoped>\n",
              "    .dataframe tbody tr th:only-of-type {\n",
              "        vertical-align: middle;\n",
              "    }\n",
              "\n",
              "    .dataframe tbody tr th {\n",
              "        vertical-align: top;\n",
              "    }\n",
              "\n",
              "    .dataframe thead th {\n",
              "        text-align: right;\n",
              "    }\n",
              "</style>\n",
              "<table border=\"1\" class=\"dataframe\">\n",
              "  <thead>\n",
              "    <tr style=\"text-align: right;\">\n",
              "      <th></th>\n",
              "      <th>Vector Number</th>\n",
              "      <th>Time to sign (ECDSA Prime Field)</th>\n",
              "      <th>Time to verify (ECDSA Prime Field)</th>\n",
              "      <th>Time to sign (ECDSA Binary Field)</th>\n",
              "      <th>Time to verify (ECDSA Binary Field)</th>\n",
              "      <th>RSA-PSS Signing Time</th>\n",
              "      <th>RSA-PSS Verifying Time</th>\n",
              "    </tr>\n",
              "    <tr>\n",
              "      <th>Length of vector in Bytes</th>\n",
              "      <th></th>\n",
              "      <th></th>\n",
              "      <th></th>\n",
              "      <th></th>\n",
              "      <th></th>\n",
              "      <th></th>\n",
              "      <th></th>\n",
              "    </tr>\n",
              "  </thead>\n",
              "  <tbody>\n",
              "    <tr>\n",
              "      <th>11</th>\n",
              "      <td>6</td>\n",
              "      <td>0.0013802217</td>\n",
              "      <td>0.00217189740</td>\n",
              "      <td>0.00581220270</td>\n",
              "      <td>0.00471460870</td>\n",
              "      <td>0.0075725979</td>\n",
              "      <td>0.0095748672</td>\n",
              "    </tr>\n",
              "    <tr>\n",
              "      <th>14</th>\n",
              "      <td>0</td>\n",
              "      <td>0.0026085372</td>\n",
              "      <td>0.00212277090</td>\n",
              "      <td>0.00965458130</td>\n",
              "      <td>0.00462811390</td>\n",
              "      <td>0.0063890306</td>\n",
              "      <td>0.0084891737</td>\n",
              "    </tr>\n",
              "    <tr>\n",
              "      <th>21</th>\n",
              "      <td>2</td>\n",
              "      <td>0.0013196861</td>\n",
              "      <td>0.00223259635</td>\n",
              "      <td>0.00599413715</td>\n",
              "      <td>0.00530238435</td>\n",
              "      <td>0.0067305785</td>\n",
              "      <td>0.0086227088</td>\n",
              "    </tr>\n",
              "    <tr>\n",
              "      <th>24</th>\n",
              "      <td>7</td>\n",
              "      <td>0.0014242655</td>\n",
              "      <td>0.00229600460</td>\n",
              "      <td>0.00590634040</td>\n",
              "      <td>0.00455206120</td>\n",
              "      <td>0.0062783850</td>\n",
              "      <td>0.0081777894</td>\n",
              "    </tr>\n",
              "    <tr>\n",
              "      <th>34</th>\n",
              "      <td>4</td>\n",
              "      <td>0.0014387809</td>\n",
              "      <td>0.00223147390</td>\n",
              "      <td>0.00629697040</td>\n",
              "      <td>0.00495193120</td>\n",
              "      <td>0.0068152542</td>\n",
              "      <td>0.0081796689</td>\n",
              "    </tr>\n",
              "    <tr>\n",
              "      <th>37</th>\n",
              "      <td>2</td>\n",
              "      <td>0.0012462813</td>\n",
              "      <td>0.00220243050</td>\n",
              "      <td>0.00586004440</td>\n",
              "      <td>0.00472257780</td>\n",
              "      <td>0.0067081406</td>\n",
              "      <td>0.0083158474</td>\n",
              "    </tr>\n",
              "    <tr>\n",
              "      <th>41</th>\n",
              "      <td>5</td>\n",
              "      <td>0.0012487586</td>\n",
              "      <td>0.00235979350</td>\n",
              "      <td>0.00575446950</td>\n",
              "      <td>0.00463049420</td>\n",
              "      <td>0.0063422909</td>\n",
              "      <td>0.0080923715</td>\n",
              "    </tr>\n",
              "  </tbody>\n",
              "</table>\n",
              "</div>"
            ],
            "text/plain": [
              "                           Vector Number  ...  RSA-PSS Verifying Time\n",
              "Length of vector in Bytes                 ...                        \n",
              "11                                     6  ...            0.0095748672\n",
              "14                                     0  ...            0.0084891737\n",
              "21                                     2  ...            0.0086227088\n",
              "24                                     7  ...            0.0081777894\n",
              "34                                     4  ...            0.0081796689\n",
              "37                                     2  ...            0.0083158474\n",
              "41                                     5  ...            0.0080923715\n",
              "\n",
              "[7 rows x 7 columns]"
            ]
          },
          "metadata": {},
          "execution_count": 36
        }
      ]
    },
    {
      "cell_type": "markdown",
      "metadata": {
        "id": "bh8hXtZX0TOo"
      },
      "source": [
        "##### Gráficas"
      ]
    },
    {
      "cell_type": "code",
      "metadata": {
        "id": "GL6RELsc0T3p"
      },
      "source": [
        "import matplotlib.pyplot as plt"
      ],
      "execution_count": 37,
      "outputs": []
    },
    {
      "cell_type": "code",
      "metadata": {
        "colab": {
          "base_uri": "https://localhost:8080/",
          "height": 309
        },
        "id": "BbH-kbNW0jEW",
        "outputId": "aecdee26-459b-41b4-8fd0-76f55d89ee38"
      },
      "source": [
        "ax = RSA_data_mean[['Vector Number', 'RSA-OAEP Encryption Time', 'RSA-OAEP Decryption Time','RSA-PSS Signing Time', \n",
        "                     'RSA-PSS Verifying Time']].plot(x='Vector Number', kind='bar', stacked=False, title='RSA Time Execution', ylabel='Time [s]')\n",
        "ax"
      ],
      "execution_count": 38,
      "outputs": [
        {
          "output_type": "execute_result",
          "data": {
            "text/plain": [
              "<matplotlib.axes._subplots.AxesSubplot at 0x7f4ac7044890>"
            ]
          },
          "metadata": {},
          "execution_count": 38
        },
        {
          "output_type": "display_data",
          "data": {
            "image/png": "[encoded data removed]",
            "text/plain": [
              "<Figure size 432x288 with 1 Axes>"
            ]
          },
          "metadata": {
            "needs_background": "light"
          }
        }
      ]
    },
    {
      "cell_type": "code",
      "metadata": {
        "colab": {
          "base_uri": "https://localhost:8080/",
          "height": 309
        },
        "id": "kedwSzR9utw2",
        "outputId": "ebb71bb7-a0e9-472a-c977-e4128955af03"
      },
      "source": [
        "ax = RSA_data_mean[['Vector Number', 'RSA-OAEP Encryption Time', 'ChaCha20 Encryption Time', \n",
        "                    'AES-EBC Encryption Time', 'AES-CBC Encryption Time']].plot(x='Vector Number', kind='bar', stacked=False, title='RSA vs Other Ciphers Time Execution', ylabel='Time [s]')\n",
        "ax"
      ],
      "execution_count": 39,
      "outputs": [
        {
          "output_type": "execute_result",
          "data": {
            "text/plain": [
              "<matplotlib.axes._subplots.AxesSubplot at 0x7f4ac6f0f490>"
            ]
          },
          "metadata": {},
          "execution_count": 39
        },
        {
          "output_type": "display_data",
          "data": {
            "image/png": "[encoded data removed]",
            "text/plain": [
              "<Figure size 432x288 with 1 Axes>"
            ]
          },
          "metadata": {
            "needs_background": "light"
          }
        }
      ]
    },
    {
      "cell_type": "code",
      "metadata": {
        "colab": {
          "base_uri": "https://localhost:8080/",
          "height": 309
        },
        "id": "l4mAiVt0XaKK",
        "outputId": "c5a0008f-79a5-486a-9fb7-4237436d3419"
      },
      "source": [
        "ax = RSA_data_mean[['Vector Number', 'RSA-OAEP Decryption Time', 'ChaCha20 Decryption Time', \n",
        "                    'AES-EBC Decryption Time', 'AES-CBC Decryption Time']].plot(x='Vector Number', kind='bar', stacked=False, title='RSA vs Other Ciphers Time Execution', ylabel='Time [s]')\n",
        "ax"
      ],
      "execution_count": 40,
      "outputs": [
        {
          "output_type": "execute_result",
          "data": {
            "text/plain": [
              "<matplotlib.axes._subplots.AxesSubplot at 0x7f4ac6e5fad0>"
            ]
          },
          "metadata": {},
          "execution_count": 40
        },
        {
          "output_type": "display_data",
          "data": {
            "image/png": "[encoded data removed]",
            "text/plain": [
              "<Figure size 432x288 with 1 Axes>"
            ]
          },
          "metadata": {
            "needs_background": "light"
          }
        }
      ]
    },
    {
      "cell_type": "code",
      "metadata": {
        "colab": {
          "base_uri": "https://localhost:8080/",
          "height": 309
        },
        "id": "wQWDy5VxvG5K",
        "outputId": "9078f7c7-08ca-44c5-bff2-5585533efbc0"
      },
      "source": [
        "ax = RSA_data_mean[['Vector Number','ChaCha20 Encryption Time', 'AES-EBC Encryption Time', \n",
        "                    'AES-CBC Encryption Time']].plot(x='Vector Number', kind='bar', stacked=False, title='256-bit Chiphers Time Execution', ylabel='Time [s]')\n",
        "ax"
      ],
      "execution_count": 41,
      "outputs": [
        {
          "output_type": "execute_result",
          "data": {
            "text/plain": [
              "<matplotlib.axes._subplots.AxesSubplot at 0x7f4ac6db3a90>"
            ]
          },
          "metadata": {},
          "execution_count": 41
        },
        {
          "output_type": "display_data",
          "data": {
            "image/png": "[encoded data removed]",
            "text/plain": [
              "<Figure size 432x288 with 1 Axes>"
            ]
          },
          "metadata": {
            "needs_background": "light"
          }
        }
      ]
    },
    {
      "cell_type": "code",
      "metadata": {
        "id": "GwYzXpErsOiy"
      },
      "source": [
        "import matplotlib.pyplot as plt"
      ],
      "execution_count": 42,
      "outputs": []
    },
    {
      "cell_type": "code",
      "metadata": {
        "colab": {
          "base_uri": "https://localhost:8080/",
          "height": 309
        },
        "id": "kaUdapRGsQWq",
        "outputId": "57eb52c1-2f05-4d85-85af-17b50553fb06"
      },
      "source": [
        "ax = RSA_data_mean[['Vector Number','ChaCha20 Decryption Time', 'AES-EBC Decryption Time', \n",
        "                    'AES-CBC Decryption Time']].plot(x='Vector Number', kind='bar', stacked=False, title='256-bit Chiphers Time Execution', ylabel='Time [s]')\n",
        "ax"
      ],
      "execution_count": 43,
      "outputs": [
        {
          "output_type": "execute_result",
          "data": {
            "text/plain": [
              "<matplotlib.axes._subplots.AxesSubplot at 0x7f4ac6ce4650>"
            ]
          },
          "metadata": {},
          "execution_count": 43
        },
        {
          "output_type": "display_data",
          "data": {
            "image/png": "[encoded data removed]",
            "text/plain": [
              "<Figure size 432x288 with 1 Axes>"
            ]
          },
          "metadata": {
            "needs_background": "light"
          }
        }
      ]
    },
    {
      "cell_type": "code",
      "metadata": {
        "id": "LVf6wpYuWWmN"
      },
      "source": [
        "import matplotlib.pyplot as plt"
      ],
      "execution_count": 44,
      "outputs": []
    },
    {
      "cell_type": "code",
      "metadata": {
        "colab": {
          "base_uri": "https://localhost:8080/",
          "height": 309
        },
        "id": "X-FxMCi6WPIx",
        "outputId": "b7913ce9-0f81-4cef-b02a-63b581d77717"
      },
      "source": [
        "ax = sign_data_mean[['Vector Number', 'Time to sign (ECDSA Prime Field)', 'Time to sign (ECDSA Binary Field)', 'RSA-PSS Signing Time' ]].plot(x='Vector Number',\n",
        "        kind='bar',\n",
        "        stacked=False,\n",
        "        title='Time Signing',\n",
        "        ylabel='Time [s]')\n",
        "ax"
      ],
      "execution_count": 45,
      "outputs": [
        {
          "output_type": "execute_result",
          "data": {
            "text/plain": [
              "<matplotlib.axes._subplots.AxesSubplot at 0x7f4ac6c24050>"
            ]
          },
          "metadata": {},
          "execution_count": 45
        },
        {
          "output_type": "display_data",
          "data": {
            "image/png": "[encoded data removed]",
            "text/plain": [
              "<Figure size 432x288 with 1 Axes>"
            ]
          },
          "metadata": {
            "needs_background": "light"
          }
        }
      ]
    },
    {
      "cell_type": "code",
      "metadata": {
        "colab": {
          "base_uri": "https://localhost:8080/",
          "height": 309
        },
        "id": "SQ5pnS-bXsxH",
        "outputId": "bac66e9a-d45b-4364-e210-bbbcb10ba257"
      },
      "source": [
        "ax = sign_data_mean[['Vector Number', 'Time to verify (ECDSA Prime Field)', 'Time to verify (ECDSA Binary Field)', 'RSA-PSS Verifying Time']].plot(x='Vector Number',\n",
        "        kind='bar',\n",
        "        stacked=False,\n",
        "        title='Time Verifying',\n",
        "        ylabel='Time [s]')\n",
        "ax"
      ],
      "execution_count": 46,
      "outputs": [
        {
          "output_type": "execute_result",
          "data": {
            "text/plain": [
              "<matplotlib.axes._subplots.AxesSubplot at 0x7f4ac6c376d0>"
            ]
          },
          "metadata": {},
          "execution_count": 46
        },
        {
          "output_type": "display_data",
          "data": {
            "image/png": "[encoded data removed]",
            "text/plain": [
              "<Figure size 432x288 with 1 Axes>"
            ]
          },
          "metadata": {
            "needs_background": "light"
          }
        }
      ]
    }
  ]
}